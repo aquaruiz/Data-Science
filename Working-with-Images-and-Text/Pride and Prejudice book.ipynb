{
 "cells": [
  {
   "cell_type": "code",
   "execution_count": 14,
   "metadata": {},
   "outputs": [
    {
     "name": "stdout",
     "output_type": "stream",
     "text": [
      "[nltk_data] Error loading stopwords: <urlopen error [Errno 11001]\n",
      "[nltk_data]     getaddrinfo failed>\n"
     ]
    }
   ],
   "source": [
    "import matplotlib.pyplot as plt\n",
    "import skimage.io\n",
    "import re\n",
    "from collections import Counter\n",
    "import nltk\n",
    "nltk.download(\"stopwords\") # we need this only the first time we download the \"stopwords\"\n",
    "from nltk.corpus import stopwords"
   ]
  },
  {
   "cell_type": "code",
   "execution_count": 5,
   "metadata": {},
   "outputs": [
    {
     "name": "stdout",
     "output_type": "stream",
     "text": [
      "704190\n"
     ]
    }
   ],
   "source": [
    "text = \"\"\n",
    "with open(\"data/Pride-and-Prejudice\", \"r\", encoding = \"utf-8\") as f:\n",
    "    text = f.read()\n",
    "print(len(text))"
   ]
  },
  {
   "cell_type": "code",
   "execution_count": 13,
   "metadata": {},
   "outputs": [
    {
     "name": "stdout",
     "output_type": "stream",
     "text": [
      "pride count: 53\n",
      "prejudice count: 11\n"
     ]
    }
   ],
   "source": [
    "text = text.lower() # makes all lowercase\n",
    "words = re.split(\"\\W+\", text) # split by words\n",
    "word_counter = Counter(words) # count words\n",
    "print(\"pride count:\", word_counter[\"pride\"])\n",
    "print(\"prejudice count:\", word_counter[\"prejudice\"])"
   ]
  },
  {
   "cell_type": "code",
   "execution_count": 15,
   "metadata": {},
   "outputs": [
    {
     "data": {
      "text/plain": [
       "[('mr', 785),\n",
       " ('elizabeth', 635),\n",
       " ('could', 527),\n",
       " ('would', 468),\n",
       " ('darcy', 417),\n",
       " ('said', 401),\n",
       " ('mrs', 343),\n",
       " ('much', 327),\n",
       " ('bennet', 323),\n",
       " ('must', 315),\n",
       " ('bingley', 306),\n",
       " ('jane', 295),\n",
       " ('miss', 283),\n",
       " ('one', 270),\n",
       " ('know', 237),\n",
       " ('though', 226),\n",
       " ('well', 224),\n",
       " ('never', 218),\n",
       " ('sister', 218),\n",
       " ('soon', 216)]"
      ]
     },
     "execution_count": 15,
     "metadata": {},
     "output_type": "execute_result"
    }
   ],
   "source": [
    "stop = stopwords.words(\"english\")\n",
    "# We get all the words that aren't \"stopwords\"\n",
    "cleaned_words = [word for word in words if word not in stop]\n",
    "cleaned_words_counter = Counter(cleaned_words)\n",
    "cleaned_words_counter.most_common(20)"
   ]
  }
 ],
 "metadata": {
  "kernelspec": {
   "display_name": "Python 3",
   "language": "python",
   "name": "python3"
  },
  "language_info": {
   "codemirror_mode": {
    "name": "ipython",
    "version": 3
   },
   "file_extension": ".py",
   "mimetype": "text/x-python",
   "name": "python",
   "nbconvert_exporter": "python",
   "pygments_lexer": "ipython3",
   "version": "3.6.4"
  }
 },
 "nbformat": 4,
 "nbformat_minor": 2
}
