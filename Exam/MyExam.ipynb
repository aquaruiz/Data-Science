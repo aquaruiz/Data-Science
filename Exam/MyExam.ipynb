{
 "cells": [
  {
   "cell_type": "code",
   "execution_count": 2,
   "metadata": {},
   "outputs": [],
   "source": [
    "%matplotlib inline"
   ]
  },
  {
   "cell_type": "code",
   "execution_count": 3,
   "metadata": {},
   "outputs": [],
   "source": [
    "import pandas as pd\n",
    "import numpy as np\n",
    "import matplotlib.pyplot as plt\n",
    "import math\n",
    "\n",
    "from collections import Counter\n",
    "import re\n",
    "\n",
    "import nltk\n",
    "from nltk.corpus import stopwords\n",
    "\n",
    "from scipy.stats import ttest_ind\n",
    "from scipy import stats\n",
    "import scipy.stats as st"
   ]
  },
  {
   "cell_type": "markdown",
   "metadata": {},
   "source": [
    "# Abstract\n",
    "\n",
    "In this survey three datasets are examined from Kaggle.com, named: **Food choices**, **Foodborne Disease Outbreaks** and **Open Food Facts**. The mile stones of creating a basic **data science project** are covered - a *data tiding, visualizing, exploring, analyzing, and forming and a try of testing a hypothesis*. \n",
    "\n",
    "Leading question of the notebook is **how much sugar do we eat with our favorite food and how much that make us sick.** \n",
    "\n",
    "The main used dataset **Open Food Facts** is about chemical components of different foods from all around the world. The focus is sugar content. Second dataset **Food choices** contains data for 125 college students. Here we focus on their comfort food preferences and do a little NLP analysis. Third dataset **Foodborne Disease Outbreaks** is related to reported food poisoning in between 1998-2015 and the consumed food. Applied writing style is easy to read, not very professional.\n"
   ]
  },
  {
   "cell_type": "markdown",
   "metadata": {},
   "source": [
    "## Related Previous Researches\n",
    "In References could be found links to Jupyter Notebooks used for creating some of the functions here. \n",
    "This notebook is extension of Kaggle notebook How much sugar and salt do we eat (see References). Kaggle notebook describes mainly distribution of sugar consumption all over the world."
   ]
  },
  {
   "cell_type": "markdown",
   "metadata": {},
   "source": [
    "## Introduction\n",
    "In this survey I want to look deeper into three data sets from Kaggle.com, named: Food choices, Foodborne Disease Outbreaks and the biggest one - Open Food Facts. All they are related to food somehow but also are connected to different topics. \n",
    "The main idea is going through the complete process of a data mining as far as I have learned it in my Data Science course at Soft Uni."
   ]
  },
  {
   "cell_type": "markdown",
   "metadata": {},
   "source": [
    "So first of all, let us read the datasets including the huge one and look at their shapes, columns, etc."
   ]
  },
  {
   "cell_type": "markdown",
   "metadata": {},
   "source": [
    "### I. Reading and Describing Datasets"
   ]
  },
  {
   "cell_type": "code",
   "execution_count": 4,
   "metadata": {},
   "outputs": [],
   "source": [
    "# Open Food Facts Data Set\n",
    "food_data = pd.read_table(\"data/en.openfoodfacts.org.products.tsv\", low_memory=False)\n",
    "\n",
    "# Food choices Data Set\n",
    "students_data = pd.read_csv(\"data/food_coded.csv\", sep=\",\")\n",
    "\n",
    "# Foodborne Disease Outbreaks Data Set\n",
    "disease_data = pd.read_csv(\"data/outbreaks.csv\")"
   ]
  },
  {
   "cell_type": "code",
   "execution_count": 5,
   "metadata": {},
   "outputs": [
    {
     "data": {
      "text/plain": [
       "(356027, 163)"
      ]
     },
     "execution_count": 5,
     "metadata": {},
     "output_type": "execute_result"
    }
   ],
   "source": [
    "food_data.shape"
   ]
  },
  {
   "cell_type": "code",
   "execution_count": 6,
   "metadata": {},
   "outputs": [
    {
     "data": {
      "text/html": [
       "<div>\n",
       "<style scoped>\n",
       "    .dataframe tbody tr th:only-of-type {\n",
       "        vertical-align: middle;\n",
       "    }\n",
       "\n",
       "    .dataframe tbody tr th {\n",
       "        vertical-align: top;\n",
       "    }\n",
       "\n",
       "    .dataframe thead th {\n",
       "        text-align: right;\n",
       "    }\n",
       "</style>\n",
       "<table border=\"1\" class=\"dataframe\">\n",
       "  <thead>\n",
       "    <tr style=\"text-align: right;\">\n",
       "      <th></th>\n",
       "      <th>code</th>\n",
       "      <th>url</th>\n",
       "      <th>creator</th>\n",
       "      <th>created_t</th>\n",
       "      <th>created_datetime</th>\n",
       "      <th>last_modified_t</th>\n",
       "      <th>last_modified_datetime</th>\n",
       "      <th>product_name</th>\n",
       "      <th>generic_name</th>\n",
       "      <th>quantity</th>\n",
       "      <th>...</th>\n",
       "      <th>fruits-vegetables-nuts_100g</th>\n",
       "      <th>fruits-vegetables-nuts-estimate_100g</th>\n",
       "      <th>collagen-meat-protein-ratio_100g</th>\n",
       "      <th>cocoa_100g</th>\n",
       "      <th>chlorophyl_100g</th>\n",
       "      <th>carbon-footprint_100g</th>\n",
       "      <th>nutrition-score-fr_100g</th>\n",
       "      <th>nutrition-score-uk_100g</th>\n",
       "      <th>glycemic-index_100g</th>\n",
       "      <th>water-hardness_100g</th>\n",
       "    </tr>\n",
       "  </thead>\n",
       "  <tbody>\n",
       "    <tr>\n",
       "      <th>0</th>\n",
       "      <td>0000000003087</td>\n",
       "      <td>http://world-en.openfoodfacts.org/product/0000...</td>\n",
       "      <td>openfoodfacts-contributors</td>\n",
       "      <td>1474103866</td>\n",
       "      <td>2016-09-17T09:17:46Z</td>\n",
       "      <td>1474103893</td>\n",
       "      <td>2016-09-17T09:18:13Z</td>\n",
       "      <td>Farine de blé noir</td>\n",
       "      <td>NaN</td>\n",
       "      <td>1kg</td>\n",
       "      <td>...</td>\n",
       "      <td>NaN</td>\n",
       "      <td>NaN</td>\n",
       "      <td>NaN</td>\n",
       "      <td>NaN</td>\n",
       "      <td>NaN</td>\n",
       "      <td>NaN</td>\n",
       "      <td>NaN</td>\n",
       "      <td>NaN</td>\n",
       "      <td>NaN</td>\n",
       "      <td>NaN</td>\n",
       "    </tr>\n",
       "    <tr>\n",
       "      <th>1</th>\n",
       "      <td>0000000004530</td>\n",
       "      <td>http://world-en.openfoodfacts.org/product/0000...</td>\n",
       "      <td>usda-ndb-import</td>\n",
       "      <td>1489069957</td>\n",
       "      <td>2017-03-09T14:32:37Z</td>\n",
       "      <td>1489069957</td>\n",
       "      <td>2017-03-09T14:32:37Z</td>\n",
       "      <td>Banana Chips Sweetened (Whole)</td>\n",
       "      <td>NaN</td>\n",
       "      <td>NaN</td>\n",
       "      <td>...</td>\n",
       "      <td>NaN</td>\n",
       "      <td>NaN</td>\n",
       "      <td>NaN</td>\n",
       "      <td>NaN</td>\n",
       "      <td>NaN</td>\n",
       "      <td>NaN</td>\n",
       "      <td>14.0</td>\n",
       "      <td>14.0</td>\n",
       "      <td>NaN</td>\n",
       "      <td>NaN</td>\n",
       "    </tr>\n",
       "    <tr>\n",
       "      <th>2</th>\n",
       "      <td>0000000004559</td>\n",
       "      <td>http://world-en.openfoodfacts.org/product/0000...</td>\n",
       "      <td>usda-ndb-import</td>\n",
       "      <td>1489069957</td>\n",
       "      <td>2017-03-09T14:32:37Z</td>\n",
       "      <td>1489069957</td>\n",
       "      <td>2017-03-09T14:32:37Z</td>\n",
       "      <td>Peanuts</td>\n",
       "      <td>NaN</td>\n",
       "      <td>NaN</td>\n",
       "      <td>...</td>\n",
       "      <td>NaN</td>\n",
       "      <td>NaN</td>\n",
       "      <td>NaN</td>\n",
       "      <td>NaN</td>\n",
       "      <td>NaN</td>\n",
       "      <td>NaN</td>\n",
       "      <td>0.0</td>\n",
       "      <td>0.0</td>\n",
       "      <td>NaN</td>\n",
       "      <td>NaN</td>\n",
       "    </tr>\n",
       "    <tr>\n",
       "      <th>3</th>\n",
       "      <td>0000000016087</td>\n",
       "      <td>http://world-en.openfoodfacts.org/product/0000...</td>\n",
       "      <td>usda-ndb-import</td>\n",
       "      <td>1489055731</td>\n",
       "      <td>2017-03-09T10:35:31Z</td>\n",
       "      <td>1489055731</td>\n",
       "      <td>2017-03-09T10:35:31Z</td>\n",
       "      <td>Organic Salted Nut Mix</td>\n",
       "      <td>NaN</td>\n",
       "      <td>NaN</td>\n",
       "      <td>...</td>\n",
       "      <td>NaN</td>\n",
       "      <td>NaN</td>\n",
       "      <td>NaN</td>\n",
       "      <td>NaN</td>\n",
       "      <td>NaN</td>\n",
       "      <td>NaN</td>\n",
       "      <td>12.0</td>\n",
       "      <td>12.0</td>\n",
       "      <td>NaN</td>\n",
       "      <td>NaN</td>\n",
       "    </tr>\n",
       "  </tbody>\n",
       "</table>\n",
       "<p>4 rows × 163 columns</p>\n",
       "</div>"
      ],
      "text/plain": [
       "            code                                                url  \\\n",
       "0  0000000003087  http://world-en.openfoodfacts.org/product/0000...   \n",
       "1  0000000004530  http://world-en.openfoodfacts.org/product/0000...   \n",
       "2  0000000004559  http://world-en.openfoodfacts.org/product/0000...   \n",
       "3  0000000016087  http://world-en.openfoodfacts.org/product/0000...   \n",
       "\n",
       "                      creator   created_t      created_datetime  \\\n",
       "0  openfoodfacts-contributors  1474103866  2016-09-17T09:17:46Z   \n",
       "1             usda-ndb-import  1489069957  2017-03-09T14:32:37Z   \n",
       "2             usda-ndb-import  1489069957  2017-03-09T14:32:37Z   \n",
       "3             usda-ndb-import  1489055731  2017-03-09T10:35:31Z   \n",
       "\n",
       "  last_modified_t last_modified_datetime                    product_name  \\\n",
       "0      1474103893   2016-09-17T09:18:13Z              Farine de blé noir   \n",
       "1      1489069957   2017-03-09T14:32:37Z  Banana Chips Sweetened (Whole)   \n",
       "2      1489069957   2017-03-09T14:32:37Z                         Peanuts   \n",
       "3      1489055731   2017-03-09T10:35:31Z          Organic Salted Nut Mix   \n",
       "\n",
       "  generic_name quantity         ...         fruits-vegetables-nuts_100g  \\\n",
       "0          NaN      1kg         ...                                 NaN   \n",
       "1          NaN      NaN         ...                                 NaN   \n",
       "2          NaN      NaN         ...                                 NaN   \n",
       "3          NaN      NaN         ...                                 NaN   \n",
       "\n",
       "  fruits-vegetables-nuts-estimate_100g collagen-meat-protein-ratio_100g  \\\n",
       "0                                  NaN                              NaN   \n",
       "1                                  NaN                              NaN   \n",
       "2                                  NaN                              NaN   \n",
       "3                                  NaN                              NaN   \n",
       "\n",
       "  cocoa_100g chlorophyl_100g carbon-footprint_100g nutrition-score-fr_100g  \\\n",
       "0        NaN             NaN                   NaN                     NaN   \n",
       "1        NaN             NaN                   NaN                    14.0   \n",
       "2        NaN             NaN                   NaN                     0.0   \n",
       "3        NaN             NaN                   NaN                    12.0   \n",
       "\n",
       "  nutrition-score-uk_100g glycemic-index_100g water-hardness_100g  \n",
       "0                     NaN                 NaN                 NaN  \n",
       "1                    14.0                 NaN                 NaN  \n",
       "2                     0.0                 NaN                 NaN  \n",
       "3                    12.0                 NaN                 NaN  \n",
       "\n",
       "[4 rows x 163 columns]"
      ]
     },
     "execution_count": 6,
     "metadata": {},
     "output_type": "execute_result"
    }
   ],
   "source": [
    "food_data.head(4)"
   ]
  },
  {
   "cell_type": "code",
   "execution_count": 7,
   "metadata": {},
   "outputs": [
    {
     "data": {
      "text/plain": [
       "code                                     object\n",
       "url                                      object\n",
       "creator                                  object\n",
       "created_t                                object\n",
       "created_datetime                         object\n",
       "last_modified_t                          object\n",
       "last_modified_datetime                   object\n",
       "product_name                             object\n",
       "generic_name                             object\n",
       "quantity                                 object\n",
       "packaging                                object\n",
       "packaging_tags                           object\n",
       "brands                                   object\n",
       "brands_tags                              object\n",
       "categories                               object\n",
       "categories_tags                          object\n",
       "categories_en                            object\n",
       "origins                                  object\n",
       "origins_tags                             object\n",
       "manufacturing_places                     object\n",
       "manufacturing_places_tags                object\n",
       "labels                                   object\n",
       "labels_tags                              object\n",
       "labels_en                                object\n",
       "emb_codes                                object\n",
       "emb_codes_tags                           object\n",
       "first_packaging_code_geo                 object\n",
       "cities                                   object\n",
       "cities_tags                              object\n",
       "purchase_places                          object\n",
       "                                         ...   \n",
       "pantothenic-acid_100g                   float64\n",
       "silica_100g                             float64\n",
       "bicarbonate_100g                        float64\n",
       "potassium_100g                          float64\n",
       "chloride_100g                           float64\n",
       "calcium_100g                            float64\n",
       "phosphorus_100g                         float64\n",
       "iron_100g                               float64\n",
       "magnesium_100g                          float64\n",
       "zinc_100g                               float64\n",
       "copper_100g                             float64\n",
       "manganese_100g                          float64\n",
       "fluoride_100g                           float64\n",
       "selenium_100g                           float64\n",
       "chromium_100g                           float64\n",
       "molybdenum_100g                         float64\n",
       "iodine_100g                             float64\n",
       "caffeine_100g                           float64\n",
       "taurine_100g                            float64\n",
       "ph_100g                                 float64\n",
       "fruits-vegetables-nuts_100g             float64\n",
       "fruits-vegetables-nuts-estimate_100g    float64\n",
       "collagen-meat-protein-ratio_100g        float64\n",
       "cocoa_100g                              float64\n",
       "chlorophyl_100g                         float64\n",
       "carbon-footprint_100g                   float64\n",
       "nutrition-score-fr_100g                 float64\n",
       "nutrition-score-uk_100g                 float64\n",
       "glycemic-index_100g                     float64\n",
       "water-hardness_100g                     float64\n",
       "Length: 163, dtype: object"
      ]
     },
     "execution_count": 7,
     "metadata": {},
     "output_type": "execute_result"
    }
   ],
   "source": [
    "food_data.dtypes"
   ]
  },
  {
   "cell_type": "code",
   "execution_count": 8,
   "metadata": {},
   "outputs": [
    {
     "data": {
      "text/plain": [
       "(125, 61)"
      ]
     },
     "execution_count": 8,
     "metadata": {},
     "output_type": "execute_result"
    }
   ],
   "source": [
    "students_data.shape"
   ]
  },
  {
   "cell_type": "code",
   "execution_count": 9,
   "metadata": {},
   "outputs": [
    {
     "data": {
      "text/html": [
       "<div>\n",
       "<style scoped>\n",
       "    .dataframe tbody tr th:only-of-type {\n",
       "        vertical-align: middle;\n",
       "    }\n",
       "\n",
       "    .dataframe tbody tr th {\n",
       "        vertical-align: top;\n",
       "    }\n",
       "\n",
       "    .dataframe thead th {\n",
       "        text-align: right;\n",
       "    }\n",
       "</style>\n",
       "<table border=\"1\" class=\"dataframe\">\n",
       "  <thead>\n",
       "    <tr style=\"text-align: right;\">\n",
       "      <th></th>\n",
       "      <th>GPA</th>\n",
       "      <th>Gender</th>\n",
       "      <th>breakfast</th>\n",
       "      <th>calories_chicken</th>\n",
       "      <th>calories_day</th>\n",
       "      <th>calories_scone</th>\n",
       "      <th>coffee</th>\n",
       "      <th>comfort_food</th>\n",
       "      <th>comfort_food_reasons</th>\n",
       "      <th>comfort_food_reasons_coded</th>\n",
       "      <th>...</th>\n",
       "      <th>soup</th>\n",
       "      <th>sports</th>\n",
       "      <th>thai_food</th>\n",
       "      <th>tortilla_calories</th>\n",
       "      <th>turkey_calories</th>\n",
       "      <th>type_sports</th>\n",
       "      <th>veggies_day</th>\n",
       "      <th>vitamins</th>\n",
       "      <th>waffle_calories</th>\n",
       "      <th>weight</th>\n",
       "    </tr>\n",
       "  </thead>\n",
       "  <tbody>\n",
       "    <tr>\n",
       "      <th>0</th>\n",
       "      <td>2.4</td>\n",
       "      <td>2</td>\n",
       "      <td>1</td>\n",
       "      <td>430</td>\n",
       "      <td>NaN</td>\n",
       "      <td>315.0</td>\n",
       "      <td>1</td>\n",
       "      <td>none</td>\n",
       "      <td>we dont have comfort</td>\n",
       "      <td>9.0</td>\n",
       "      <td>...</td>\n",
       "      <td>1.0</td>\n",
       "      <td>1.0</td>\n",
       "      <td>1</td>\n",
       "      <td>1165.0</td>\n",
       "      <td>345</td>\n",
       "      <td>car racing</td>\n",
       "      <td>5</td>\n",
       "      <td>1</td>\n",
       "      <td>1315</td>\n",
       "      <td>187</td>\n",
       "    </tr>\n",
       "    <tr>\n",
       "      <th>1</th>\n",
       "      <td>3.654</td>\n",
       "      <td>1</td>\n",
       "      <td>1</td>\n",
       "      <td>610</td>\n",
       "      <td>3.0</td>\n",
       "      <td>420.0</td>\n",
       "      <td>2</td>\n",
       "      <td>chocolate, chips, ice cream</td>\n",
       "      <td>Stress, bored, anger</td>\n",
       "      <td>1.0</td>\n",
       "      <td>...</td>\n",
       "      <td>1.0</td>\n",
       "      <td>1.0</td>\n",
       "      <td>2</td>\n",
       "      <td>725.0</td>\n",
       "      <td>690</td>\n",
       "      <td>Basketball</td>\n",
       "      <td>4</td>\n",
       "      <td>2</td>\n",
       "      <td>900</td>\n",
       "      <td>155</td>\n",
       "    </tr>\n",
       "    <tr>\n",
       "      <th>2</th>\n",
       "      <td>3.3</td>\n",
       "      <td>1</td>\n",
       "      <td>1</td>\n",
       "      <td>720</td>\n",
       "      <td>4.0</td>\n",
       "      <td>420.0</td>\n",
       "      <td>2</td>\n",
       "      <td>frozen yogurt, pizza, fast food</td>\n",
       "      <td>stress, sadness</td>\n",
       "      <td>1.0</td>\n",
       "      <td>...</td>\n",
       "      <td>1.0</td>\n",
       "      <td>2.0</td>\n",
       "      <td>5</td>\n",
       "      <td>1165.0</td>\n",
       "      <td>500</td>\n",
       "      <td>none</td>\n",
       "      <td>5</td>\n",
       "      <td>1</td>\n",
       "      <td>900</td>\n",
       "      <td>I'm not answering this.</td>\n",
       "    </tr>\n",
       "    <tr>\n",
       "      <th>3</th>\n",
       "      <td>3.2</td>\n",
       "      <td>1</td>\n",
       "      <td>1</td>\n",
       "      <td>430</td>\n",
       "      <td>3.0</td>\n",
       "      <td>420.0</td>\n",
       "      <td>2</td>\n",
       "      <td>Pizza, Mac and cheese, ice cream</td>\n",
       "      <td>Boredom</td>\n",
       "      <td>2.0</td>\n",
       "      <td>...</td>\n",
       "      <td>1.0</td>\n",
       "      <td>2.0</td>\n",
       "      <td>5</td>\n",
       "      <td>725.0</td>\n",
       "      <td>690</td>\n",
       "      <td>NaN</td>\n",
       "      <td>3</td>\n",
       "      <td>1</td>\n",
       "      <td>1315</td>\n",
       "      <td>Not sure, 240</td>\n",
       "    </tr>\n",
       "  </tbody>\n",
       "</table>\n",
       "<p>4 rows × 61 columns</p>\n",
       "</div>"
      ],
      "text/plain": [
       "     GPA  Gender  breakfast  calories_chicken  calories_day  calories_scone  \\\n",
       "0    2.4       2          1               430           NaN           315.0   \n",
       "1  3.654       1          1               610           3.0           420.0   \n",
       "2    3.3       1          1               720           4.0           420.0   \n",
       "3    3.2       1          1               430           3.0           420.0   \n",
       "\n",
       "   coffee                      comfort_food   comfort_food_reasons  \\\n",
       "0       1                              none  we dont have comfort    \n",
       "1       2       chocolate, chips, ice cream   Stress, bored, anger   \n",
       "2       2   frozen yogurt, pizza, fast food        stress, sadness   \n",
       "3       2  Pizza, Mac and cheese, ice cream                Boredom   \n",
       "\n",
       "   comfort_food_reasons_coded            ...             soup  sports  \\\n",
       "0                         9.0            ...              1.0     1.0   \n",
       "1                         1.0            ...              1.0     1.0   \n",
       "2                         1.0            ...              1.0     2.0   \n",
       "3                         2.0            ...              1.0     2.0   \n",
       "\n",
       "   thai_food tortilla_calories  turkey_calories  type_sports veggies_day  \\\n",
       "0          1            1165.0              345   car racing           5   \n",
       "1          2             725.0              690  Basketball            4   \n",
       "2          5            1165.0              500         none           5   \n",
       "3          5             725.0              690          NaN           3   \n",
       "\n",
       "   vitamins  waffle_calories                    weight  \n",
       "0         1             1315                       187  \n",
       "1         2              900                       155  \n",
       "2         1              900  I'm not answering this.   \n",
       "3         1             1315             Not sure, 240  \n",
       "\n",
       "[4 rows x 61 columns]"
      ]
     },
     "execution_count": 9,
     "metadata": {},
     "output_type": "execute_result"
    }
   ],
   "source": [
    "students_data.head(4)"
   ]
  },
  {
   "cell_type": "code",
   "execution_count": 10,
   "metadata": {},
   "outputs": [
    {
     "data": {
      "text/plain": [
       "<bound method NDFrame.describe of          GPA  Gender  breakfast  calories_chicken  calories_day  \\\n",
       "0        2.4       2          1               430           NaN   \n",
       "1      3.654       1          1               610           3.0   \n",
       "2        3.3       1          1               720           4.0   \n",
       "3        3.2       1          1               430           3.0   \n",
       "4        3.5       1          1               720           2.0   \n",
       "5       2.25       1          1               610           3.0   \n",
       "6        3.8       2          1               610           3.0   \n",
       "7        3.3       1          1               720           3.0   \n",
       "8        3.3       1          1               430           NaN   \n",
       "9        3.3       1          1               430           3.0   \n",
       "10       3.5       1          1               610           3.0   \n",
       "11     3.904       1          1               720           4.0   \n",
       "12       3.4       2          1               430           3.0   \n",
       "13       3.6       1          1               610           3.0   \n",
       "14       3.1       2          1               610           3.0   \n",
       "15       NaN       2          2               430           NaN   \n",
       "16         4       1          1               265           3.0   \n",
       "17       3.6       2          1               430           3.0   \n",
       "18       3.4       1          1               720           3.0   \n",
       "19       2.2       2          1               430           2.0   \n",
       "20       3.3       2          1               610           3.0   \n",
       "21      3.87       2          1               610           3.0   \n",
       "22       3.7       2          1               610           3.0   \n",
       "23       3.7       2          2               610           3.0   \n",
       "24       3.9       1          1               720           2.0   \n",
       "25       2.8       1          2               720           3.0   \n",
       "26       3.7       2          1               610           2.0   \n",
       "27         3       2          1               610           4.0   \n",
       "28       3.2       2          1               610           2.0   \n",
       "29       3.5       2          1               265           2.0   \n",
       "..       ...     ...        ...               ...           ...   \n",
       "95       3.5       2          1               265           NaN   \n",
       "96      3.92       2          1               430           3.0   \n",
       "97       3.9       1          1               720           3.0   \n",
       "98       3.9       2          1               720           3.0   \n",
       "99       3.2       1          1               430           4.0   \n",
       "100      3.5       1          1               610           3.0   \n",
       "101      3.4       1          1               610           NaN   \n",
       "102      NaN       1          1               610           4.0   \n",
       "103      3.7       1          1               610           3.0   \n",
       "104  Unknown       1          1               720           3.0   \n",
       "105        3       1          1               720           3.0   \n",
       "106        3       1          1               430           3.0   \n",
       "107      3.8       1          1               430           3.0   \n",
       "108      3.8       1          1               430           2.0   \n",
       "109      3.4       1          1               610           3.0   \n",
       "110      3.7       1          1               610           3.0   \n",
       "111      2.9       2          1               265           2.0   \n",
       "112      3.9       1          1               610           4.0   \n",
       "113      3.6       1          1               430           2.0   \n",
       "114      2.8       2          1               610           3.0   \n",
       "115      3.3       2          1               610           4.0   \n",
       "116      3.4       1          1               610           NaN   \n",
       "117     3.77       1          1               610           NaN   \n",
       "118     3.63       1          1               430           3.0   \n",
       "119      3.2       2          1               610           3.0   \n",
       "120      3.5       1          1               610           4.0   \n",
       "121        3       1          1               265           2.0   \n",
       "122    3.882       1          1               720           NaN   \n",
       "123        3       2          1               720           4.0   \n",
       "124      3.9       1          1               430           NaN   \n",
       "\n",
       "     calories_scone  coffee  \\\n",
       "0             315.0       1   \n",
       "1             420.0       2   \n",
       "2             420.0       2   \n",
       "3             420.0       2   \n",
       "4             420.0       2   \n",
       "5             980.0       2   \n",
       "6             420.0       2   \n",
       "7             420.0       1   \n",
       "8             420.0       1   \n",
       "9             315.0       2   \n",
       "10            980.0       2   \n",
       "11            420.0       2   \n",
       "12            420.0       2   \n",
       "13            420.0       2   \n",
       "14            420.0       2   \n",
       "15            980.0       2   \n",
       "16            420.0       1   \n",
       "17            980.0       2   \n",
       "18            980.0       1   \n",
       "19            420.0       2   \n",
       "20            980.0       2   \n",
       "21            315.0       1   \n",
       "22            420.0       1   \n",
       "23            420.0       2   \n",
       "24            420.0       2   \n",
       "25            420.0       2   \n",
       "26            420.0       1   \n",
       "27            980.0       2   \n",
       "28            420.0       2   \n",
       "29            420.0       2   \n",
       "..              ...     ...   \n",
       "95            420.0       2   \n",
       "96            420.0       2   \n",
       "97            420.0       2   \n",
       "98            315.0       1   \n",
       "99            420.0       1   \n",
       "100             NaN       2   \n",
       "101           420.0       2   \n",
       "102           420.0       2   \n",
       "103           420.0       2   \n",
       "104           420.0       2   \n",
       "105           420.0       2   \n",
       "106           315.0       2   \n",
       "107           420.0       1   \n",
       "108           420.0       2   \n",
       "109           420.0       2   \n",
       "110           315.0       1   \n",
       "111           980.0       2   \n",
       "112           315.0       2   \n",
       "113           420.0       1   \n",
       "114           315.0       2   \n",
       "115           980.0       2   \n",
       "116           420.0       2   \n",
       "117           315.0       2   \n",
       "118           420.0       1   \n",
       "119           420.0       2   \n",
       "120           420.0       2   \n",
       "121           315.0       2   \n",
       "122           420.0       1   \n",
       "123           420.0       1   \n",
       "124           315.0       2   \n",
       "\n",
       "                                          comfort_food  \\\n",
       "0                                                 none   \n",
       "1                          chocolate, chips, ice cream   \n",
       "2                      frozen yogurt, pizza, fast food   \n",
       "3                     Pizza, Mac and cheese, ice cream   \n",
       "4                         Ice cream, chocolate, chips    \n",
       "5                            Candy, brownies and soda.   \n",
       "6         Chocolate, ice cream, french fries, pretzels   \n",
       "7                     Ice cream, cheeseburgers, chips.   \n",
       "8                             Donuts, ice cream, chips   \n",
       "9                Mac and cheese, chocolate, and pasta    \n",
       "10   Pasta, grandma homemade chocolate cake anythin...   \n",
       "11              chocolate, pasta, soup, chips, popcorn   \n",
       "12                         Cookies, popcorn, and chips   \n",
       "13                          ice cream, cake, chocolate   \n",
       "14     Pizza, fruit, spaghetti, chicken and Potatoes     \n",
       "15                         cookies, donuts, candy bars   \n",
       "16                        Saltfish, Candy and Kit Kat    \n",
       "17                           chips, cookies, ice cream   \n",
       "18                                Chocolate, ice crea    \n",
       "19                               pizza, wings, Chinese   \n",
       "20                              Fast food, pizza, subs   \n",
       "21                        chocolate, sweets, ice cream   \n",
       "22                             burgers, chips, cookies   \n",
       "23                               Chilli, soup, pot pie   \n",
       "24                         Soup, pasta, brownies, cake   \n",
       "25             chocolate, ice cream/milkshake, cookies   \n",
       "26              Chips, ice cream, microwaveable foods    \n",
       "27                             Chicken fingers, pizza    \n",
       "28                  cookies, hot chocolate, beef jerky   \n",
       "29   Tomato soup, pizza, Fritos, Meatball sub, Dr. ...   \n",
       "..                                                 ...   \n",
       "95                  Doritos, mac and cheese, ice cream   \n",
       "96        Ice cream, cake, pop, pizza, and milkshakes.   \n",
       "97   Mac and Cheese, Pizza, Ice Cream and French Fr...   \n",
       "98                                   Soup, pasta, cake   \n",
       "99       mac & cheese, frosted brownies, chicken nuggs   \n",
       "100                      watermelon, grapes, ice cream   \n",
       "101  macaroni and cheese, stuffed peppers, hamburge...   \n",
       "102                  Pizza, mashed potatoes, spaghetti   \n",
       "103  dark chocolate, terra chips, reese's cups(dark...   \n",
       "104              Chips, chocolate, ,mozzarella sticks    \n",
       "105                            ice cream, chips, candy   \n",
       "106  Pizza, soda, chocolate brownie, chicken tikka ...   \n",
       "107                          Chocolate, Pasta, Cookies   \n",
       "108                         Candy, salty snacks, toast   \n",
       "109           Mac in cheese, pizza, mozzarella sticks    \n",
       "110                        Ice-cream, pizza, chocolate   \n",
       "111                                    snacks, chips,    \n",
       "112                        Chocolate, Ice cream, pizza   \n",
       "113                    ice cream, pizza, Chinese food    \n",
       "114                  Burgers, indian and korean food\\r   \n",
       "115  chocolate bar, ice cream, pretzels, potato chi...   \n",
       "116             Ice cream, chocolate, pizza, cucumber    \n",
       "117  Noodle ( any kinds of noodle), Tuna sandwich, ...   \n",
       "118                               Chinese, chips, cake   \n",
       "119                        chips, rice, chicken curry,   \n",
       "120            wine. mac and cheese, pizza, ice cream    \n",
       "121                         Pizza / Wings / Cheesecake   \n",
       "122                         rice, potato, seaweed soup   \n",
       "123                       Mac n Cheese, Lasagna, Pizza   \n",
       "124                       Chocolates, pizza, and Ritz.   \n",
       "\n",
       "                                  comfort_food_reasons  \\\n",
       "0                                we dont have comfort    \n",
       "1                                 Stress, bored, anger   \n",
       "2                                      stress, sadness   \n",
       "3                                              Boredom   \n",
       "4                           Stress, boredom, cravings    \n",
       "5    None, i don't eat comfort food. I just eat whe...   \n",
       "6                                      stress, boredom   \n",
       "7    I eat comfort food when im stressed out from s...   \n",
       "8                                             Boredom    \n",
       "9                           Stress, anger and sadness    \n",
       "10                                            Boredom    \n",
       "11                       sadness, stress, cold weather   \n",
       "12                 Sadness, boredom, late night snack    \n",
       "13                 stress,  boredom, special occasions   \n",
       "14                    Friends, environment and boredom   \n",
       "15                                             boredom   \n",
       "16                                             Stress    \n",
       "17   I usually only eat comfort food when I'm bored...   \n",
       "18                                     Sadness, stress   \n",
       "19                            boredom, sadness, hungry   \n",
       "20                             happiness, satisfaction   \n",
       "21                                      Mostly boredom   \n",
       "22                                sadness, depression    \n",
       "23                                 Stress and boredom    \n",
       "24               A long day, not feeling well, winter    \n",
       "25                                             boredom   \n",
       "26                                  Boredom, lazyniss    \n",
       "27                                            Boredom    \n",
       "28                                     survival, bored   \n",
       "29                          Boredom, anger, drunkeness   \n",
       "..                                                 ...   \n",
       "95                          Boredom, hunger, snacking.   \n",
       "96                    Happiness, sadness, celebration.   \n",
       "97    Boredom, anger and just being hungry in general.   \n",
       "98                 Depression, comfort, accessibility    \n",
       "99   they are yummy, my boyfriend sometimes makes m...   \n",
       "100                                Sad, bored, excited   \n",
       "101                       boredom, stress, mood swings   \n",
       "102                                     Anger, sadness   \n",
       "103  Anxiousness, watching TV I desire \"comfort food\"    \n",
       "104                          Boredom, sadness, anxiety   \n",
       "105                           Boredom, laziness, anger   \n",
       "106                                 Stress and sadness   \n",
       "107  I am always stressed out, and bored when I am ...   \n",
       "108                           Stress, sadness, boredom   \n",
       "109           Stress, frustration, self-consciousness    \n",
       "110                               Sadness and cravings   \n",
       "111                                            boredom   \n",
       "112                     Sadness, happiness and boredom   \n",
       "113                                Boredom and sadness   \n",
       "114                      sadness, happiness and hunger   \n",
       "115              Stress, boredom and physical activity   \n",
       "116                     loneliness, homework, boredom    \n",
       "117  When i'm  eating with my close friends/ Food s...   \n",
       "118                                Stress and boredom    \n",
       "119                   Happiness, boredom, social event   \n",
       "120                               boredom and sadness    \n",
       "121                    Loneliness / Homesick / Sadness   \n",
       "122                                            sadness   \n",
       "123      happiness, they are some of my favorite foods   \n",
       "124                   hormones, Premenstrual syndrome.   \n",
       "\n",
       "     comfort_food_reasons_coded            ...             soup  sports  \\\n",
       "0                           9.0            ...              1.0     1.0   \n",
       "1                           1.0            ...              1.0     1.0   \n",
       "2                           1.0            ...              1.0     2.0   \n",
       "3                           2.0            ...              1.0     2.0   \n",
       "4                           1.0            ...              1.0     1.0   \n",
       "5                           4.0            ...              1.0     2.0   \n",
       "6                           1.0            ...              1.0     1.0   \n",
       "7                           1.0            ...              1.0     2.0   \n",
       "8                           2.0            ...              2.0     2.0   \n",
       "9                           1.0            ...              1.0     1.0   \n",
       "10                          2.0            ...              1.0     1.0   \n",
       "11                          3.0            ...              1.0     1.0   \n",
       "12                          3.0            ...              2.0     1.0   \n",
       "13                          1.0            ...              1.0     1.0   \n",
       "14                          2.0            ...              1.0     1.0   \n",
       "15                          2.0            ...              2.0     1.0   \n",
       "16                          1.0            ...              1.0     2.0   \n",
       "17                          2.0            ...              1.0     1.0   \n",
       "18                          3.0            ...              2.0     2.0   \n",
       "19                          2.0            ...              1.0     NaN   \n",
       "20                          7.0            ...              1.0     1.0   \n",
       "21                          2.0            ...              2.0     1.0   \n",
       "22                          3.0            ...              1.0     1.0   \n",
       "23                          1.0            ...              1.0     1.0   \n",
       "24                          6.0            ...              2.0     2.0   \n",
       "25                          2.0            ...              1.0     1.0   \n",
       "26                          2.0            ...              2.0     1.0   \n",
       "27                          2.0            ...              1.0     1.0   \n",
       "28                          2.0            ...              1.0     2.0   \n",
       "29                          2.0            ...              1.0     2.0   \n",
       "..                          ...            ...              ...     ...   \n",
       "95                          2.0            ...              2.0     1.0   \n",
       "96                          7.0            ...              1.0     2.0   \n",
       "97                          2.0            ...              1.0     1.0   \n",
       "98                          3.0            ...              1.0     1.0   \n",
       "99                          3.0            ...              1.0     1.0   \n",
       "100                         3.0            ...              1.0     1.0   \n",
       "101                         2.0            ...              1.0     2.0   \n",
       "102                         3.0            ...              1.0     2.0   \n",
       "103                         8.0            ...              1.0     2.0   \n",
       "104                         2.0            ...              2.0     2.0   \n",
       "105                         2.0            ...              2.0     1.0   \n",
       "106                         NaN            ...              1.0     2.0   \n",
       "107                         NaN            ...              1.0     2.0   \n",
       "108                         NaN            ...              1.0     1.0   \n",
       "109                         NaN            ...              1.0     2.0   \n",
       "110                         NaN            ...              1.0     1.0   \n",
       "111                         NaN            ...              1.0     2.0   \n",
       "112                         NaN            ...              1.0     2.0   \n",
       "113                         NaN            ...              1.0     2.0   \n",
       "114                         NaN            ...              1.0     1.0   \n",
       "115                         NaN            ...              1.0     1.0   \n",
       "116                         NaN            ...              1.0     2.0   \n",
       "117                         NaN            ...              1.0     2.0   \n",
       "118                         NaN            ...              1.0     2.0   \n",
       "119                         NaN            ...              1.0     1.0   \n",
       "120                         NaN            ...              1.0     1.0   \n",
       "121                         NaN            ...              1.0     NaN   \n",
       "122                         NaN            ...              1.0     2.0   \n",
       "123                         NaN            ...              2.0     2.0   \n",
       "124                         NaN            ...              1.0     2.0   \n",
       "\n",
       "     thai_food tortilla_calories  turkey_calories  \\\n",
       "0            1            1165.0              345   \n",
       "1            2             725.0              690   \n",
       "2            5            1165.0              500   \n",
       "3            5             725.0              690   \n",
       "4            4             940.0              500   \n",
       "5            4             940.0              345   \n",
       "6            5             940.0              690   \n",
       "7            1             725.0              500   \n",
       "8            5             725.0              345   \n",
       "9            4             580.0              345   \n",
       "10           2             940.0              345   \n",
       "11           5             940.0              500   \n",
       "12           3             940.0              500   \n",
       "13           5            1165.0              850   \n",
       "14           4             940.0              500   \n",
       "15           1             940.0              345   \n",
       "16           1             580.0              345   \n",
       "17           3             940.0              500   \n",
       "18           1            1165.0              690   \n",
       "19           3             940.0              345   \n",
       "20           1            1165.0              850   \n",
       "21           5             725.0              500   \n",
       "22           4             940.0              850   \n",
       "23           4             940.0              690   \n",
       "24           4             940.0              500   \n",
       "25           3            1165.0              690   \n",
       "26           2            1165.0              850   \n",
       "27           3            1165.0              500   \n",
       "28           1             940.0              500   \n",
       "29           5             580.0              500   \n",
       "..         ...               ...              ...   \n",
       "95           4            1165.0              690   \n",
       "96           3             725.0              500   \n",
       "97           3            1165.0              500   \n",
       "98           5            1165.0              690   \n",
       "99           1            1165.0              690   \n",
       "100          5               NaN              500   \n",
       "101          3            1165.0              500   \n",
       "102          2             940.0              500   \n",
       "103          3             725.0              345   \n",
       "104          5             940.0              690   \n",
       "105          3            1165.0              690   \n",
       "106          4             580.0              500   \n",
       "107          5            1165.0              690   \n",
       "108          2             580.0              345   \n",
       "109          2             940.0              690   \n",
       "110          3             580.0              690   \n",
       "111          1             725.0              345   \n",
       "112          5             725.0              500   \n",
       "113          2            1165.0              690   \n",
       "114          5             940.0              850   \n",
       "115          1            1165.0              690   \n",
       "116          5             725.0              345   \n",
       "117          5             725.0              690   \n",
       "118          4             940.0              345   \n",
       "119          5            1165.0              690   \n",
       "120          5             940.0              500   \n",
       "121          4             940.0              500   \n",
       "122          5             580.0              690   \n",
       "123          1             940.0              500   \n",
       "124          2             725.0              345   \n",
       "\n",
       "                                           type_sports veggies_day  vitamins  \\\n",
       "0                                           car racing           5         1   \n",
       "1                                          Basketball            4         2   \n",
       "2                                                 none           5         1   \n",
       "3                                                  NaN           3         1   \n",
       "4                                             Softball           4         2   \n",
       "5                                                None.           1         2   \n",
       "6                                               soccer           4         1   \n",
       "7                                                 none           4         2   \n",
       "8                                                 none           3         2   \n",
       "9                                         field hockey           5         1   \n",
       "10                                              soccer           5         2   \n",
       "11                                             Running           5         1   \n",
       "12                              Soccer and basketball            3         2   \n",
       "13                               intramural volleyball           5         2   \n",
       "14                                              Hockey           5         1   \n",
       "15                                              Hockey           1         2   \n",
       "16                                                 NaN           5         1   \n",
       "17                                              hockey           4         2   \n",
       "18                                            dancing            5         1   \n",
       "19                                          basketball           2         2   \n",
       "20                                              Soccer           3         2   \n",
       "21                                              Tennis           2         2   \n",
       "22                                   tennis soccer gym           3         1   \n",
       "23                                     Gaelic Football           4         1   \n",
       "24                                                none           4         2   \n",
       "25                                          Ice hockey           3         2   \n",
       "26                                              Hockey           3         2   \n",
       "27                                           Lacrosse            5         1   \n",
       "28                                                 NaN           2         1   \n",
       "29                                                 NaN           4         1   \n",
       "..                                                 ...         ...       ...   \n",
       "95                                           Wrestling           4         2   \n",
       "96                                              Soccer           2         1   \n",
       "97                                            Running            5         2   \n",
       "98                                              Tennis           4         1   \n",
       "99                                            softball           5         1   \n",
       "100                                  Volleyball, Track           5         2   \n",
       "101                                                NaN           5         2   \n",
       "102                                                NaN           5         1   \n",
       "103  When I can, rarely though play pool, darts, an...           5         1   \n",
       "104                                 None at the moment           5         1   \n",
       "105                                         volleyball           2         2   \n",
       "106                                               None           5         2   \n",
       "107                           I used to play softball            4         2   \n",
       "108                                         Ice hockey           5         2   \n",
       "109                                               None           3         1   \n",
       "110                                         Volleyball           3         2   \n",
       "111                                                NaN           3         2   \n",
       "112                                                NaN           3         2   \n",
       "113                                               None           2         2   \n",
       "114                                 Tennis, Basketball           3         2   \n",
       "115                                             Hockey           2         2   \n",
       "116                                               none           5         1   \n",
       "117                            No, I don't play sport.           3         1   \n",
       "118                                               None           5         2   \n",
       "119                                             Soccer           5         2   \n",
       "120                                           Softball           5         1   \n",
       "121                                        basketball            5         2   \n",
       "122                                               none           4         2   \n",
       "123                                                NaN           3         1   \n",
       "124                                                NaN           4         2   \n",
       "\n",
       "     waffle_calories                    weight  \n",
       "0               1315                       187  \n",
       "1                900                       155  \n",
       "2                900  I'm not answering this.   \n",
       "3               1315             Not sure, 240  \n",
       "4                760                       190  \n",
       "5               1315                       190  \n",
       "6               1315                       180  \n",
       "7               1315                       137  \n",
       "8                760                       180  \n",
       "9                900                       125  \n",
       "10               900                       116  \n",
       "11               900                       110  \n",
       "12               575                       264  \n",
       "13              1315                       123  \n",
       "14               900                       185  \n",
       "15              1315                       180  \n",
       "16               760                       145  \n",
       "17               900                       170  \n",
       "18              1315                       135  \n",
       "19               900                       165  \n",
       "20              1315                       175  \n",
       "21               900                       195  \n",
       "22              1315                       185  \n",
       "23              1315                       185  \n",
       "24              1315                       105  \n",
       "25               760                       125  \n",
       "26              1315                       160  \n",
       "27              1315                       175  \n",
       "28              1315                       180  \n",
       "29               760                       167  \n",
       "..               ...                       ...  \n",
       "95              1315                       184  \n",
       "96               900                       210  \n",
       "97               760                       155  \n",
       "98              1315                       185  \n",
       "99               900                       165  \n",
       "100              900                       125  \n",
       "101             1315                       160  \n",
       "102              900                       135  \n",
       "103              760                       130  \n",
       "104             1315                       230  \n",
       "105             1315                       125  \n",
       "106              760                       130  \n",
       "107              900                       165  \n",
       "108              760                       128  \n",
       "109             1315                       200  \n",
       "110              900                       160  \n",
       "111             1315                       170  \n",
       "112              900                       129  \n",
       "113              900                       170  \n",
       "114              760                       138  \n",
       "115             1315                       150  \n",
       "116             1315                       170  \n",
       "117              760                       113  \n",
       "118             1315                       140  \n",
       "119             1315                       185  \n",
       "120             1315                       156  \n",
       "121             1315                       180  \n",
       "122             1315                       120  \n",
       "123             1315                       135  \n",
       "124              575                       135  \n",
       "\n",
       "[125 rows x 61 columns]>"
      ]
     },
     "execution_count": 10,
     "metadata": {},
     "output_type": "execute_result"
    }
   ],
   "source": [
    "students_data.describe"
   ]
  },
  {
   "cell_type": "code",
   "execution_count": 11,
   "metadata": {},
   "outputs": [
    {
     "data": {
      "text/plain": [
       "(19119, 12)"
      ]
     },
     "execution_count": 11,
     "metadata": {},
     "output_type": "execute_result"
    }
   ],
   "source": [
    "disease_data.shape"
   ]
  },
  {
   "cell_type": "code",
   "execution_count": 12,
   "metadata": {},
   "outputs": [
    {
     "data": {
      "text/html": [
       "<div>\n",
       "<style scoped>\n",
       "    .dataframe tbody tr th:only-of-type {\n",
       "        vertical-align: middle;\n",
       "    }\n",
       "\n",
       "    .dataframe tbody tr th {\n",
       "        vertical-align: top;\n",
       "    }\n",
       "\n",
       "    .dataframe thead th {\n",
       "        text-align: right;\n",
       "    }\n",
       "</style>\n",
       "<table border=\"1\" class=\"dataframe\">\n",
       "  <thead>\n",
       "    <tr style=\"text-align: right;\">\n",
       "      <th></th>\n",
       "      <th>Year</th>\n",
       "      <th>Month</th>\n",
       "      <th>State</th>\n",
       "      <th>Location</th>\n",
       "      <th>Food</th>\n",
       "      <th>Ingredient</th>\n",
       "      <th>Species</th>\n",
       "      <th>Serotype/Genotype</th>\n",
       "      <th>Status</th>\n",
       "      <th>Illnesses</th>\n",
       "      <th>Hospitalizations</th>\n",
       "      <th>Fatalities</th>\n",
       "    </tr>\n",
       "  </thead>\n",
       "  <tbody>\n",
       "    <tr>\n",
       "      <th>0</th>\n",
       "      <td>1998</td>\n",
       "      <td>January</td>\n",
       "      <td>California</td>\n",
       "      <td>Restaurant</td>\n",
       "      <td>NaN</td>\n",
       "      <td>NaN</td>\n",
       "      <td>NaN</td>\n",
       "      <td>NaN</td>\n",
       "      <td>NaN</td>\n",
       "      <td>20</td>\n",
       "      <td>0.0</td>\n",
       "      <td>0.0</td>\n",
       "    </tr>\n",
       "    <tr>\n",
       "      <th>1</th>\n",
       "      <td>1998</td>\n",
       "      <td>January</td>\n",
       "      <td>California</td>\n",
       "      <td>NaN</td>\n",
       "      <td>Custard</td>\n",
       "      <td>NaN</td>\n",
       "      <td>NaN</td>\n",
       "      <td>NaN</td>\n",
       "      <td>NaN</td>\n",
       "      <td>112</td>\n",
       "      <td>0.0</td>\n",
       "      <td>0.0</td>\n",
       "    </tr>\n",
       "    <tr>\n",
       "      <th>2</th>\n",
       "      <td>1998</td>\n",
       "      <td>January</td>\n",
       "      <td>California</td>\n",
       "      <td>Restaurant</td>\n",
       "      <td>NaN</td>\n",
       "      <td>NaN</td>\n",
       "      <td>NaN</td>\n",
       "      <td>NaN</td>\n",
       "      <td>NaN</td>\n",
       "      <td>35</td>\n",
       "      <td>0.0</td>\n",
       "      <td>0.0</td>\n",
       "    </tr>\n",
       "    <tr>\n",
       "      <th>3</th>\n",
       "      <td>1998</td>\n",
       "      <td>January</td>\n",
       "      <td>California</td>\n",
       "      <td>Restaurant</td>\n",
       "      <td>Fish, Ahi</td>\n",
       "      <td>NaN</td>\n",
       "      <td>Scombroid toxin</td>\n",
       "      <td>NaN</td>\n",
       "      <td>Confirmed</td>\n",
       "      <td>4</td>\n",
       "      <td>0.0</td>\n",
       "      <td>0.0</td>\n",
       "    </tr>\n",
       "  </tbody>\n",
       "</table>\n",
       "</div>"
      ],
      "text/plain": [
       "   Year    Month       State    Location       Food Ingredient  \\\n",
       "0  1998  January  California  Restaurant        NaN        NaN   \n",
       "1  1998  January  California         NaN    Custard        NaN   \n",
       "2  1998  January  California  Restaurant        NaN        NaN   \n",
       "3  1998  January  California  Restaurant  Fish, Ahi        NaN   \n",
       "\n",
       "           Species Serotype/Genotype     Status  Illnesses  Hospitalizations  \\\n",
       "0              NaN               NaN        NaN         20               0.0   \n",
       "1              NaN               NaN        NaN        112               0.0   \n",
       "2              NaN               NaN        NaN         35               0.0   \n",
       "3  Scombroid toxin               NaN  Confirmed          4               0.0   \n",
       "\n",
       "   Fatalities  \n",
       "0         0.0  \n",
       "1         0.0  \n",
       "2         0.0  \n",
       "3         0.0  "
      ]
     },
     "execution_count": 12,
     "metadata": {},
     "output_type": "execute_result"
    }
   ],
   "source": [
    "disease_data.head(4)"
   ]
  },
  {
   "cell_type": "code",
   "execution_count": 13,
   "metadata": {},
   "outputs": [
    {
     "data": {
      "text/plain": [
       "<bound method DataFrame.info of        Year     Month           State                               Location  \\\n",
       "0      1998   January      California                             Restaurant   \n",
       "1      1998   January      California                                    NaN   \n",
       "2      1998   January      California                             Restaurant   \n",
       "3      1998   January      California                             Restaurant   \n",
       "4      1998   January      California                 Private Home/Residence   \n",
       "5      1998   January      California                             Restaurant   \n",
       "6      1998   January      California                             Restaurant   \n",
       "7      1998   January      California                             Restaurant   \n",
       "8      1998   January        Colorado                             Restaurant   \n",
       "9      1998   January        Colorado                             Restaurant   \n",
       "10     1998   January        Colorado                          Grocery Store   \n",
       "11     1998   January        Colorado                             Restaurant   \n",
       "12     1998   January        Colorado                 Private Home/Residence   \n",
       "13     1998   January         Florida                             Restaurant   \n",
       "14     1998   January         Florida                             Restaurant   \n",
       "15     1998   January         Florida                             Restaurant   \n",
       "16     1998   January         Florida                             Restaurant   \n",
       "17     1998   January         Florida                             Restaurant   \n",
       "18     1998   January         Florida                             Restaurant   \n",
       "19     1998   January         Florida                             Restaurant   \n",
       "20     1998   January         Florida                             Restaurant   \n",
       "21     1998   January         Florida                             Restaurant   \n",
       "22     1998   January         Florida                             Restaurant   \n",
       "23     1998   January         Florida                             Restaurant   \n",
       "24     1998   January         Florida                             Restaurant   \n",
       "25     1998   January         Florida                             Restaurant   \n",
       "26     1998   January         Florida                             Restaurant   \n",
       "27     1998   January         Florida                             Restaurant   \n",
       "28     1998   January         Florida                 Private Home/Residence   \n",
       "29     1998   January         Florida                             Restaurant   \n",
       "...     ...       ...             ...                                    ...   \n",
       "19089  2015  December  North Carolina                       Catering Service   \n",
       "19090  2015  December    North Dakota                       Catering Service   \n",
       "19091  2015  December    North Dakota                            Prison/Jail   \n",
       "19092  2015  December            Ohio                 Private Home/Residence   \n",
       "19093  2015  December            Ohio                       Catering Service   \n",
       "19094  2015  December            Ohio                               Hospital   \n",
       "19095  2015  December            Ohio                             Restaurant   \n",
       "19096  2015  December            Ohio                             Restaurant   \n",
       "19097  2015  December            Ohio                             Restaurant   \n",
       "19098  2015  December            Ohio                             Restaurant   \n",
       "19099  2015  December            Ohio                             Restaurant   \n",
       "19100  2015  December            Ohio                             Farm/Dairy   \n",
       "19101  2015  December          Oregon                                    NaN   \n",
       "19102  2015  December  South Carolina                             Restaurant   \n",
       "19103  2015  December           Texas                                    NaN   \n",
       "19104  2015  December            Utah                 Private Home/Residence   \n",
       "19105  2015  December            Utah                 Private Home/Residence   \n",
       "19106  2015  December        Virginia                             Restaurant   \n",
       "19107  2015  December      Washington              School/College/University   \n",
       "19108  2015  December      Washington                             Restaurant   \n",
       "19109  2015  December      Washington     Restaurant; Private Home/Residence   \n",
       "19110  2015  December      Washington                             Restaurant   \n",
       "19111  2015  December       Wisconsin                       Catering Service   \n",
       "19112  2015  December       Wisconsin                       Banquet Facility   \n",
       "19113  2015  December       Wisconsin                       Banquet Facility   \n",
       "19114  2015  December       Wisconsin                             Restaurant   \n",
       "19115  2015  December       Wisconsin                 Private Home/Residence   \n",
       "19116  2015  December       Wisconsin  Nursing Home/Assisted Living Facility   \n",
       "19117  2015  December       Wisconsin                   Fast Food Restaurant   \n",
       "19118  2015  December         Wyoming                                    NaN   \n",
       "\n",
       "                                                    Food  \\\n",
       "0                                                    NaN   \n",
       "1                                                Custard   \n",
       "2                                                    NaN   \n",
       "3                                              Fish, Ahi   \n",
       "4                      Lasagna, Unspecified; Eggs, Other   \n",
       "5                                                    NaN   \n",
       "6                                                    NaN   \n",
       "7                Stuffing, Unspecified; Sandwich, Turkey   \n",
       "8                                     Salad, Unspecified   \n",
       "9                                         Peppers, Chili   \n",
       "10                                                   NaN   \n",
       "11                                                   NaN   \n",
       "12                                                   NaN   \n",
       "13                                         Chicken Salad   \n",
       "14                                     Hot Dog, Kielbasa   \n",
       "15                             Ethnic Style, Unspecified   \n",
       "16                                           Greek Salad   \n",
       "17                             Ground Beef, Cheeseburger   \n",
       "18                                    Pasta, Unspecified   \n",
       "19                Sauces, Unspecified; Tuna, Unspecified   \n",
       "20                                     Sandwich, Chicken   \n",
       "21                                  Chicken, Unspecified   \n",
       "22                                        Chicken, Fried   \n",
       "23                                Doughnuts, Unspecified   \n",
       "24                             Tomato Sauce, Unspecified   \n",
       "25                                    Steak, Unspecified   \n",
       "26                                          Unknown Food   \n",
       "27     Chicken, Nuggets/Fingers; French Fries; Soda, ...   \n",
       "28                                   Turkey, Unspecified   \n",
       "29                                    Steak, Unspecified   \n",
       "...                                                  ...   \n",
       "19089                                                NaN   \n",
       "19090                                                NaN   \n",
       "19091                                                NaN   \n",
       "19092                                       Chicken Mole   \n",
       "19093                                                NaN   \n",
       "19094                                           Cupcakes   \n",
       "19095                                Macaroni And Cheese   \n",
       "19096                                                NaN   \n",
       "19097                                                NaN   \n",
       "19098                                                NaN   \n",
       "19099                                      Eggs Benedict   \n",
       "19100                                Milk, Unpasteurized   \n",
       "19101                                             Eggnog   \n",
       "19102                                           Zucchini   \n",
       "19103                                                NaN   \n",
       "19104                                                NaN   \n",
       "19105                            Meal Replacement Powder   \n",
       "19106                                                NaN   \n",
       "19107                                                NaN   \n",
       "19108                                          Foie Gras   \n",
       "19109                                                NaN   \n",
       "19110                                                NaN   \n",
       "19111                            Cookies, Chocolate Chip   \n",
       "19112                                                NaN   \n",
       "19113                                        Gravy, Pork   \n",
       "19114                                                NaN   \n",
       "19115                                              Salsa   \n",
       "19116                                                NaN   \n",
       "19117                                                NaN   \n",
       "19118                                                NaN   \n",
       "\n",
       "                           Ingredient                                 Species  \\\n",
       "0                                 NaN                                     NaN   \n",
       "1                                 NaN                                     NaN   \n",
       "2                                 NaN                                     NaN   \n",
       "3                                 NaN                         Scombroid toxin   \n",
       "4                                 NaN                     Salmonella enterica   \n",
       "5                                 NaN                         Shigella boydii   \n",
       "6                                 NaN                                     NaN   \n",
       "7                                 NaN                     Salmonella enterica   \n",
       "8                                 NaN                                   Virus   \n",
       "9                                 NaN                                   Virus   \n",
       "10                                NaN                                   Virus   \n",
       "11                                NaN                                   Virus   \n",
       "12                                NaN                                   Virus   \n",
       "13                                NaN                                     NaN   \n",
       "14                                NaN                                     NaN   \n",
       "15                                NaN                 Clostridium perfringens   \n",
       "16                                NaN                   Norovirus genogroup I   \n",
       "17                                NaN                   Staphylococcus aureus   \n",
       "18                                NaN                         Bacillus cereus   \n",
       "19                                NaN                         Scombroid toxin   \n",
       "20                                NaN                   Campylobacter unknown   \n",
       "21                                NaN                                     NaN   \n",
       "22                                NaN                         Bacillus cereus   \n",
       "23                                NaN                                     NaN   \n",
       "24                                NaN                                     NaN   \n",
       "25                                NaN                                     NaN   \n",
       "26                                NaN                                     NaN   \n",
       "27                                NaN                                     NaN   \n",
       "28                                NaN                                     NaN   \n",
       "29                                NaN                                     NaN   \n",
       "...                               ...                                     ...   \n",
       "19089                             NaN                                     NaN   \n",
       "19090                             NaN                  Norovirus genogroup II   \n",
       "19091                             NaN                 Clostridium perfringens   \n",
       "19092                             NaN                 Clostridium perfringens   \n",
       "19093                             NaN                  Norovirus genogroup II   \n",
       "19094                             NaN                  Norovirus genogroup II   \n",
       "19095                             NaN  Bacillus cereus; Staphylococcus aureus   \n",
       "19096                             NaN                               Norovirus   \n",
       "19097                             NaN                 Clostridium perfringens   \n",
       "19098                             NaN                               Norovirus   \n",
       "19099                             NaN                     Salmonella enterica   \n",
       "19100  Milk, Whole Milk Unpasteurized                    Campylobacter jejuni   \n",
       "19101                             Egg                     Salmonella enterica   \n",
       "19102                        Zucchini                         Bacillus cereus   \n",
       "19103                             NaN   Shigella sonnei; Campylobacter jejuni   \n",
       "19104                             NaN                     Salmonella enterica   \n",
       "19105                             NaN                     Salmonella enterica   \n",
       "19106                             NaN                  Norovirus genogroup II   \n",
       "19107                             NaN                       Norovirus unknown   \n",
       "19108                             NaN                   Campylobacter unknown   \n",
       "19109                             NaN                       Norovirus unknown   \n",
       "19110                             NaN                       Norovirus unknown   \n",
       "19111                             NaN                  Norovirus genogroup II   \n",
       "19112                             NaN                  Norovirus genogroup II   \n",
       "19113                             NaN                 Clostridium perfringens   \n",
       "19114                             NaN                  Norovirus genogroup II   \n",
       "19115                             NaN                  Norovirus genogroup II   \n",
       "19116                             NaN                  Norovirus genogroup II   \n",
       "19117                             NaN                  Norovirus genogroup II   \n",
       "19118                             NaN                                     NaN   \n",
       "\n",
       "            Serotype/Genotype                Status  Illnesses  \\\n",
       "0                         NaN                   NaN         20   \n",
       "1                         NaN                   NaN        112   \n",
       "2                         NaN                   NaN         35   \n",
       "3                         NaN             Confirmed          4   \n",
       "4                 Enteritidis             Confirmed         26   \n",
       "5                         NaN             Confirmed         25   \n",
       "6                         NaN                   NaN          8   \n",
       "7                 Enteritidis             Confirmed          4   \n",
       "8                         NaN             Suspected         21   \n",
       "9                         NaN             Suspected          3   \n",
       "10                        NaN             Suspected          8   \n",
       "11                        NaN             Suspected         28   \n",
       "12                        NaN             Suspected         10   \n",
       "13                        NaN                   NaN          2   \n",
       "14                        NaN                   NaN          3   \n",
       "15                        NaN             Suspected          3   \n",
       "16                        NaN             Suspected          2   \n",
       "17                        NaN             Suspected          2   \n",
       "18                        NaN             Suspected          2   \n",
       "19                        NaN             Suspected          2   \n",
       "20                        NaN             Confirmed          3   \n",
       "21                        NaN                   NaN          3   \n",
       "22                        NaN             Suspected          5   \n",
       "23                        NaN                   NaN          3   \n",
       "24                        NaN                   NaN          5   \n",
       "25                        NaN                   NaN          2   \n",
       "26                        NaN                   NaN          2   \n",
       "27                        NaN                   NaN          2   \n",
       "28                        NaN                   NaN         18   \n",
       "29                        NaN                   NaN          2   \n",
       "...                       ...                   ...        ...   \n",
       "19089                     NaN                   NaN         18   \n",
       "19090                 Unknown             Confirmed         42   \n",
       "19091                     NaN             Confirmed        115   \n",
       "19092                     NaN             Suspected          8   \n",
       "19093                   GII_2             Confirmed          8   \n",
       "19094                     NaN             Confirmed        170   \n",
       "19095                     NaN  Suspected; Suspected          2   \n",
       "19096                     NaN             Suspected          6   \n",
       "19097                     NaN             Suspected          2   \n",
       "19098                     NaN             Suspected          4   \n",
       "19099             Enteritidis             Confirmed          3   \n",
       "19100                     NaN             Confirmed          2   \n",
       "19101             Enteritidis             Confirmed          7   \n",
       "19102                     NaN             Suspected          8   \n",
       "19103                     NaN  Suspected; Suspected          7   \n",
       "19104             Enteritidis             Confirmed          3   \n",
       "19105                 Virchow             Confirmed          3   \n",
       "19106                     NaN             Suspected          9   \n",
       "19107                     NaN             Suspected          2   \n",
       "19108                     NaN             Suspected          2   \n",
       "19109                     NaN             Suspected         10   \n",
       "19110                     NaN             Suspected          4   \n",
       "19111        GII_4 Untypeable             Confirmed         10   \n",
       "19112                   GII_2             Confirmed         20   \n",
       "19113                     NaN             Suspected         29   \n",
       "19114                  GII_14             Confirmed          4   \n",
       "19115                   GII_2             Confirmed         16   \n",
       "19116  GII_17 Kawasaki (2014)             Confirmed         43   \n",
       "19117                   GII_2             Confirmed          5   \n",
       "19118                     NaN                   NaN          3   \n",
       "\n",
       "       Hospitalizations  Fatalities  \n",
       "0                   0.0         0.0  \n",
       "1                   0.0         0.0  \n",
       "2                   0.0         0.0  \n",
       "3                   0.0         0.0  \n",
       "4                   3.0         0.0  \n",
       "5                   3.0         0.0  \n",
       "6                   0.0         0.0  \n",
       "7                   3.0         0.0  \n",
       "8                   NaN         NaN  \n",
       "9                   NaN         0.0  \n",
       "10                  NaN         NaN  \n",
       "11                  NaN         0.0  \n",
       "12                  NaN         NaN  \n",
       "13                  NaN         NaN  \n",
       "14                  0.0         0.0  \n",
       "15                  0.0         0.0  \n",
       "16                  NaN         NaN  \n",
       "17                  0.0         0.0  \n",
       "18                  0.0         0.0  \n",
       "19                  2.0         0.0  \n",
       "20                  1.0         0.0  \n",
       "21                  0.0         0.0  \n",
       "22                  0.0         0.0  \n",
       "23                  0.0         0.0  \n",
       "24                  0.0         0.0  \n",
       "25                  0.0         0.0  \n",
       "26                  0.0         0.0  \n",
       "27                  1.0         0.0  \n",
       "28                  5.0         0.0  \n",
       "29                  0.0         0.0  \n",
       "...                 ...         ...  \n",
       "19089               0.0         0.0  \n",
       "19090               0.0         0.0  \n",
       "19091               0.0         0.0  \n",
       "19092               0.0         0.0  \n",
       "19093               0.0         0.0  \n",
       "19094               0.0         0.0  \n",
       "19095               0.0         0.0  \n",
       "19096               0.0         0.0  \n",
       "19097               0.0         0.0  \n",
       "19098               0.0         0.0  \n",
       "19099               2.0         0.0  \n",
       "19100               2.0         0.0  \n",
       "19101               0.0         0.0  \n",
       "19102               0.0         0.0  \n",
       "19103               0.0         0.0  \n",
       "19104               0.0         0.0  \n",
       "19105               1.0         0.0  \n",
       "19106               0.0         0.0  \n",
       "19107               0.0         0.0  \n",
       "19108               0.0         0.0  \n",
       "19109               0.0         0.0  \n",
       "19110               0.0         0.0  \n",
       "19111               0.0         0.0  \n",
       "19112               0.0         0.0  \n",
       "19113               NaN         NaN  \n",
       "19114               0.0         0.0  \n",
       "19115               0.0         0.0  \n",
       "19116               3.0         0.0  \n",
       "19117               0.0         0.0  \n",
       "19118               0.0         0.0  \n",
       "\n",
       "[19119 rows x 12 columns]>"
      ]
     },
     "execution_count": 13,
     "metadata": {},
     "output_type": "execute_result"
    }
   ],
   "source": [
    "disease_data.info"
   ]
  },
  {
   "cell_type": "markdown",
   "metadata": {},
   "source": [
    "Obviously, the first one `food_data` is enormously big (~1 GB) and over 160 features, 300K observations, so let's start digging it first. We expect not all columns to be visible at run of `food_data.columns`. Instead of that we simply print each of 163 dataset columns one by one."
   ]
  },
  {
   "cell_type": "code",
   "execution_count": 14,
   "metadata": {},
   "outputs": [
    {
     "name": "stdout",
     "output_type": "stream",
     "text": [
      "code\n",
      "url\n",
      "creator\n",
      "created_t\n",
      "created_datetime\n",
      "last_modified_t\n",
      "last_modified_datetime\n",
      "product_name\n",
      "generic_name\n",
      "quantity\n",
      "packaging\n",
      "packaging_tags\n",
      "brands\n",
      "brands_tags\n",
      "categories\n",
      "categories_tags\n",
      "categories_en\n",
      "origins\n",
      "origins_tags\n",
      "manufacturing_places\n",
      "manufacturing_places_tags\n",
      "labels\n",
      "labels_tags\n",
      "labels_en\n",
      "emb_codes\n",
      "emb_codes_tags\n",
      "first_packaging_code_geo\n",
      "cities\n",
      "cities_tags\n",
      "purchase_places\n",
      "stores\n",
      "countries\n",
      "countries_tags\n",
      "countries_en\n",
      "ingredients_text\n",
      "allergens\n",
      "allergens_en\n",
      "traces\n",
      "traces_tags\n",
      "traces_en\n",
      "serving_size\n",
      "no_nutriments\n",
      "additives_n\n",
      "additives\n",
      "additives_tags\n",
      "additives_en\n",
      "ingredients_from_palm_oil_n\n",
      "ingredients_from_palm_oil\n",
      "ingredients_from_palm_oil_tags\n",
      "ingredients_that_may_be_from_palm_oil_n\n",
      "ingredients_that_may_be_from_palm_oil\n",
      "ingredients_that_may_be_from_palm_oil_tags\n",
      "nutrition_grade_uk\n",
      "nutrition_grade_fr\n",
      "pnns_groups_1\n",
      "pnns_groups_2\n",
      "states\n",
      "states_tags\n",
      "states_en\n",
      "main_category\n",
      "main_category_en\n",
      "image_url\n",
      "image_small_url\n",
      "energy_100g\n",
      "energy-from-fat_100g\n",
      "fat_100g\n",
      "saturated-fat_100g\n",
      "-butyric-acid_100g\n",
      "-caproic-acid_100g\n",
      "-caprylic-acid_100g\n",
      "-capric-acid_100g\n",
      "-lauric-acid_100g\n",
      "-myristic-acid_100g\n",
      "-palmitic-acid_100g\n",
      "-stearic-acid_100g\n",
      "-arachidic-acid_100g\n",
      "-behenic-acid_100g\n",
      "-lignoceric-acid_100g\n",
      "-cerotic-acid_100g\n",
      "-montanic-acid_100g\n",
      "-melissic-acid_100g\n",
      "monounsaturated-fat_100g\n",
      "polyunsaturated-fat_100g\n",
      "omega-3-fat_100g\n",
      "-alpha-linolenic-acid_100g\n",
      "-eicosapentaenoic-acid_100g\n",
      "-docosahexaenoic-acid_100g\n",
      "omega-6-fat_100g\n",
      "-linoleic-acid_100g\n",
      "-arachidonic-acid_100g\n",
      "-gamma-linolenic-acid_100g\n",
      "-dihomo-gamma-linolenic-acid_100g\n",
      "omega-9-fat_100g\n",
      "-oleic-acid_100g\n",
      "-elaidic-acid_100g\n",
      "-gondoic-acid_100g\n",
      "-mead-acid_100g\n",
      "-erucic-acid_100g\n",
      "-nervonic-acid_100g\n",
      "trans-fat_100g\n",
      "cholesterol_100g\n",
      "carbohydrates_100g\n",
      "sugars_100g\n",
      "-sucrose_100g\n",
      "-glucose_100g\n",
      "-fructose_100g\n",
      "-lactose_100g\n",
      "-maltose_100g\n",
      "-maltodextrins_100g\n",
      "starch_100g\n",
      "polyols_100g\n",
      "fiber_100g\n",
      "proteins_100g\n",
      "casein_100g\n",
      "serum-proteins_100g\n",
      "nucleotides_100g\n",
      "salt_100g\n",
      "sodium_100g\n",
      "alcohol_100g\n",
      "vitamin-a_100g\n",
      "beta-carotene_100g\n",
      "vitamin-d_100g\n",
      "vitamin-e_100g\n",
      "vitamin-k_100g\n",
      "vitamin-c_100g\n",
      "vitamin-b1_100g\n",
      "vitamin-b2_100g\n",
      "vitamin-pp_100g\n",
      "vitamin-b6_100g\n",
      "vitamin-b9_100g\n",
      "folates_100g\n",
      "vitamin-b12_100g\n",
      "biotin_100g\n",
      "pantothenic-acid_100g\n",
      "silica_100g\n",
      "bicarbonate_100g\n",
      "potassium_100g\n",
      "chloride_100g\n",
      "calcium_100g\n",
      "phosphorus_100g\n",
      "iron_100g\n",
      "magnesium_100g\n",
      "zinc_100g\n",
      "copper_100g\n",
      "manganese_100g\n",
      "fluoride_100g\n",
      "selenium_100g\n",
      "chromium_100g\n",
      "molybdenum_100g\n",
      "iodine_100g\n",
      "caffeine_100g\n",
      "taurine_100g\n",
      "ph_100g\n",
      "fruits-vegetables-nuts_100g\n",
      "fruits-vegetables-nuts-estimate_100g\n",
      "collagen-meat-protein-ratio_100g\n",
      "cocoa_100g\n",
      "chlorophyl_100g\n",
      "carbon-footprint_100g\n",
      "nutrition-score-fr_100g\n",
      "nutrition-score-uk_100g\n",
      "glycemic-index_100g\n",
      "water-hardness_100g\n"
     ]
    }
   ],
   "source": [
    "for col in food_data.columns:\n",
    "    print(col)"
   ]
  },
  {
   "cell_type": "markdown",
   "metadata": {},
   "source": [
    "### II. Data Cleaning"
   ]
  },
  {
   "cell_type": "markdown",
   "metadata": {},
   "source": [
    "In a flash look, we could tell what is in this dataset `food_data` - food, its origin, packaging, chemical composition. We could assume that not every food contains all of the possible chemical composites, presented in this dataset, so let's check for empty at all cells around. Empty cells make the dataset enormous without any reason. Features with no observations or products with no name are not suitable for a proper data research. We want to make our job easier and we write some code about cleaning those.\n",
    "\n",
    "Firstly, we clean features with no observation in it. Then we remove products with no name. We don't need poorly named products because our main goal is to examine food by name, and only then by chemical compositions."
   ]
  },
  {
   "cell_type": "code",
   "execution_count": 15,
   "metadata": {},
   "outputs": [],
   "source": [
    "# Amount of NaN values for each feature\n",
    "nan_cells = food_data.isnull()\n",
    "all_nan_cells = nan_cells.sum()\n",
    "sorted_all_nan_cells = all_nan_cells.sort_values(ascending = False)\n",
    "total_cells = food_data.isnull().count()\n",
    "\n",
    "# Percentage part of total\n",
    "percent = (sorted_all_nan_cells / total_cells * 100).round(2)\n",
    "\n",
    "# Merge series\n",
    "nan_data = pd.concat({\"Qnty of NaN's\": sorted_all_nan_cells, '% of Total': percent}, axis=1)"
   ]
  },
  {
   "cell_type": "code",
   "execution_count": 16,
   "metadata": {},
   "outputs": [
    {
     "data": {
      "text/html": [
       "<div>\n",
       "<style scoped>\n",
       "    .dataframe tbody tr th:only-of-type {\n",
       "        vertical-align: middle;\n",
       "    }\n",
       "\n",
       "    .dataframe tbody tr th {\n",
       "        vertical-align: top;\n",
       "    }\n",
       "\n",
       "    .dataframe thead th {\n",
       "        text-align: right;\n",
       "    }\n",
       "</style>\n",
       "<table border=\"1\" class=\"dataframe\">\n",
       "  <thead>\n",
       "    <tr style=\"text-align: right;\">\n",
       "      <th></th>\n",
       "      <th>% of Total</th>\n",
       "      <th>Qnty of NaN's</th>\n",
       "    </tr>\n",
       "  </thead>\n",
       "  <tbody>\n",
       "    <tr>\n",
       "      <th>-alpha-linolenic-acid_100g</th>\n",
       "      <td>99.94</td>\n",
       "      <td>355826</td>\n",
       "    </tr>\n",
       "    <tr>\n",
       "      <th>-arachidic-acid_100g</th>\n",
       "      <td>99.99</td>\n",
       "      <td>356000</td>\n",
       "    </tr>\n",
       "    <tr>\n",
       "      <th>-arachidonic-acid_100g</th>\n",
       "      <td>100.00</td>\n",
       "      <td>356018</td>\n",
       "    </tr>\n",
       "    <tr>\n",
       "      <th>-behenic-acid_100g</th>\n",
       "      <td>99.99</td>\n",
       "      <td>356001</td>\n",
       "    </tr>\n",
       "    <tr>\n",
       "      <th>-butyric-acid_100g</th>\n",
       "      <td>100.00</td>\n",
       "      <td>356027</td>\n",
       "    </tr>\n",
       "    <tr>\n",
       "      <th>-capric-acid_100g</th>\n",
       "      <td>100.00</td>\n",
       "      <td>356025</td>\n",
       "    </tr>\n",
       "    <tr>\n",
       "      <th>-caproic-acid_100g</th>\n",
       "      <td>100.00</td>\n",
       "      <td>356027</td>\n",
       "    </tr>\n",
       "    <tr>\n",
       "      <th>-caprylic-acid_100g</th>\n",
       "      <td>100.00</td>\n",
       "      <td>356026</td>\n",
       "    </tr>\n",
       "    <tr>\n",
       "      <th>-cerotic-acid_100g</th>\n",
       "      <td>100.00</td>\n",
       "      <td>356027</td>\n",
       "    </tr>\n",
       "    <tr>\n",
       "      <th>-dihomo-gamma-linolenic-acid_100g</th>\n",
       "      <td>99.99</td>\n",
       "      <td>356001</td>\n",
       "    </tr>\n",
       "  </tbody>\n",
       "</table>\n",
       "</div>"
      ],
      "text/plain": [
       "                                   % of Total  Qnty of NaN's\n",
       "-alpha-linolenic-acid_100g              99.94         355826\n",
       "-arachidic-acid_100g                    99.99         356000\n",
       "-arachidonic-acid_100g                 100.00         356018\n",
       "-behenic-acid_100g                      99.99         356001\n",
       "-butyric-acid_100g                     100.00         356027\n",
       "-capric-acid_100g                      100.00         356025\n",
       "-caproic-acid_100g                     100.00         356027\n",
       "-caprylic-acid_100g                    100.00         356026\n",
       "-cerotic-acid_100g                     100.00         356027\n",
       "-dihomo-gamma-linolenic-acid_100g       99.99         356001"
      ]
     },
     "execution_count": 16,
     "metadata": {},
     "output_type": "execute_result"
    }
   ],
   "source": [
    "nan_data.head(10)"
   ]
  },
  {
   "cell_type": "code",
   "execution_count": 17,
   "metadata": {},
   "outputs": [
    {
     "name": "stdout",
     "output_type": "stream",
     "text": [
      "Number of features with no data: ~30\n"
     ]
    }
   ],
   "source": [
    "criteria = nan_data[\"% of Total\"] == 100 \n",
    "print(\"Number of features with no data: ~\" + str(nan_data[criteria].count()[0]))"
   ]
  },
  {
   "cell_type": "code",
   "execution_count": 18,
   "metadata": {},
   "outputs": [],
   "source": [
    "food_data.dropna(axis = 1, how = 'all', inplace = True) # drop all empty columns/features "
   ]
  },
  {
   "cell_type": "code",
   "execution_count": 19,
   "metadata": {},
   "outputs": [
    {
     "name": "stdout",
     "output_type": "stream",
     "text": [
      "initial dataset shape was (356027, 163) -> now is (356027, 147)\n"
     ]
    }
   ],
   "source": [
    "print(\"initial dataset shape was (356027, 163) -> now is {}\".format(food_data.shape))"
   ]
  },
  {
   "cell_type": "code",
   "execution_count": 20,
   "metadata": {},
   "outputs": [
    {
     "name": "stdout",
     "output_type": "stream",
     "text": [
      "              % of Total  Qnty of NaN's\n",
      "product_name        4.92          17512\n",
      "Empty Product names: 17512\n"
     ]
    }
   ],
   "source": [
    "print(nan_data[nan_data.index == \"product_name\"])\n",
    "column_product_name = food_data[\"product_name\"]\n",
    "print('Empty Product names: {}'.format(column_product_name.isnull().sum()))"
   ]
  },
  {
   "cell_type": "code",
   "execution_count": 21,
   "metadata": {},
   "outputs": [],
   "source": [
    "food_data = food_data[food_data.product_name.notnull()] # drop all products without names"
   ]
  },
  {
   "cell_type": "markdown",
   "metadata": {},
   "source": [
    "The dataset `food_data` is now a little more acceptable to work with and we could start digging in it. \n",
    "\n",
    "Besides `product_name` feature we have something called `pnns_groups_1` and `pnns_groups_2` which appears to be some sort of grouping. All foods are grouped in some main categories and then in some subcategories. The main groups need cleaning by hand. We rewrite the names with dashes to make them the same as these without dashes."
   ]
  },
  {
   "cell_type": "code",
   "execution_count": 22,
   "metadata": {},
   "outputs": [
    {
     "name": "stdout",
     "output_type": "stream",
     "text": [
      "[nan 'unknown' 'Fruits and vegetables' 'Sugary snacks'\n",
      " 'Cereals and potatoes' 'Beverages' 'Composite foods' 'Fish Meat Eggs'\n",
      " 'Fat and sauces' 'Milk and dairy products' 'fruits-and-vegetables'\n",
      " 'Salty snacks' 'sugary-snacks' 'cereals-and-potatoes' 'salty-snacks']\n",
      "\n",
      "[nan 'unknown' 'Vegetables' 'Biscuits and cakes' 'Bread' 'Legumes'\n",
      " 'Sweetened beverages' 'Pizza pies and quiche' 'Meat' 'Sweets'\n",
      " 'Non-sugared beverages' 'Alcoholic beverages' 'Dressings and sauces'\n",
      " 'Ice cream' 'Cheese' 'One-dish meals' 'vegetables' 'Appetizers'\n",
      " 'Chocolate products' 'Soups' 'Fruits' 'Cereals' 'Milk and yogurt' 'Fats'\n",
      " 'Sandwich' 'Artificially sweetened beverages' 'Fruit juices' 'Nuts'\n",
      " 'Breakfast cereals' 'Eggs' 'Fish and seafood' 'Dried fruits'\n",
      " 'Processed meat' 'Potatoes' 'pastries' 'Dairy desserts' 'Fruit nectars'\n",
      " 'Tripe dishes' 'fruits' 'Salty and fatty products' 'cereals' 'legumes'\n",
      " 'nuts']\n"
     ]
    }
   ],
   "source": [
    "print(food_data.pnns_groups_1.unique())\n",
    "print()\n",
    "print(food_data.pnns_groups_2.unique())"
   ]
  },
  {
   "cell_type": "code",
   "execution_count": 23,
   "metadata": {},
   "outputs": [],
   "source": [
    "spell_check = {}\n",
    "spell_check['cereals-and-potatoes']  = 'cereals and potatoes'\n",
    "spell_check['fruits-and-vegetables'] = 'fruits and vegetables'\n",
    "spell_check['sugary-snacks'] = 'sugary snacks'\n",
    "spell_check['salty-snacks'] = 'salty snacks'\n",
    "food_data['pnns_groups_1'] = food_data['pnns_groups_1'].replace(spell_check)\n",
    "food_data['pnns_groups_1'] = food_data['pnns_groups_1'].str.lower()\n",
    "food_data['pnns_groups_2'] = food_data['pnns_groups_2'].str.lower()"
   ]
  },
  {
   "cell_type": "markdown",
   "metadata": {},
   "source": [
    "### III. Grouping and Presenting Data"
   ]
  },
  {
   "cell_type": "markdown",
   "metadata": {},
   "source": [
    "We create a function that extracts observations by given feature in given groups. This helps us to go easily throughout all the data and select these food containing mostly sugars. On purpose we choose to go first with `sugary snacks`. We dive into the deep."
   ]
  },
  {
   "cell_type": "code",
   "execution_count": 24,
   "metadata": {},
   "outputs": [],
   "source": [
    "def extract_observs(group, subgroup, feature):\n",
    "    condition = (group.get_group(subgroup)[feature].notnull()) & (group.get_group(subgroup)[feature] > 0)\n",
    "    features_observations = group.get_group(subgroup)[condition][feature]\n",
    "    return features_observations.values"
   ]
  },
  {
   "cell_type": "code",
   "execution_count": 25,
   "metadata": {},
   "outputs": [],
   "source": [
    "grouped_by_group1 = food_data.groupby(\"pnns_groups_1\")  # extracing sugary snacks data only\n",
    "sweets_grouped = grouped_by_group1.get_group(\"sugary snacks\").groupby(\"pnns_groups_2\")"
   ]
  },
  {
   "cell_type": "markdown",
   "metadata": {},
   "source": [
    "A little step away is checking how much sugar there is in composite foods - not very interesting data - so let us stick to the firstly chosen sugary snacks."
   ]
  },
  {
   "cell_type": "code",
   "execution_count": 36,
   "metadata": {},
   "outputs": [],
   "source": [
    "other_meals__grouped = grouped_by_group1.get_group(\"composite foods\").groupby(\"pnns_groups_2\")"
   ]
  },
  {
   "cell_type": "code",
   "execution_count": 37,
   "metadata": {},
   "outputs": [
    {
     "data": {
      "image/png": "[encoded data removed]",
      "text/plain": [
       "<matplotlib.figure.Figure at 0x19313aa8d68>"
      ]
     },
     "metadata": {},
     "output_type": "display_data"
    }
   ],
   "source": [
    "sugar_content_by_subgroups = {}\n",
    "for eachgroup in other_meals__grouped:\n",
    "    sugar_content_by_subgroups[eachgroup[0]] = extract_observs(other_meals__grouped, eachgroup[0], \"sugars_100g\")\n",
    "labels, data = [*zip(*sugar_content_by_subgroups.items())]  # 'transpose' items to parallel key, value lists\n",
    "plt.figure(figsize=(8, 6))\n",
    "plt.boxplot(data)\n",
    "plt.xticks(range(1, len(labels) + 1), labels)\n",
    "plt.title(\"Sugar content in some groups of Composite Foods in %\")\n",
    "plt.ylabel(\"% sugar\")\n",
    "plt.show()"
   ]
  },
  {
   "cell_type": "code",
   "execution_count": 38,
   "metadata": {},
   "outputs": [
    {
     "data": {
      "image/png": "[encoded data removed]",
      "text/plain": [
       "<matplotlib.figure.Figure at 0x19315387da0>"
      ]
     },
     "metadata": {},
     "output_type": "display_data"
    }
   ],
   "source": [
    "sugar_content_by_subgroups = {}\n",
    "for eachgroup in sweets_grouped:\n",
    "    sugar_content_by_subgroups[eachgroup[0]] = extract_observs(sweets_grouped, eachgroup[0], \"sugars_100g\")\n",
    "labels, data = [*zip(*sugar_content_by_subgroups.items())]  # 'transpose' items to parallel key, value lists\n",
    "plt.figure(figsize=(8, 6))\n",
    "plt.boxplot(data)\n",
    "plt.xticks(range(1, len(labels) + 1), labels)\n",
    "plt.title(\"Sugar content in some groups of sugary snacks in %\")\n",
    "plt.ylabel(\"% sugar\")\n",
    "plt.show()"
   ]
  },
  {
   "cell_type": "markdown",
   "metadata": {},
   "source": [
    "Strange here is **more then 100% sugars, even 140%** in some foods. Let's remove this garbage data."
   ]
  },
  {
   "cell_type": "code",
   "execution_count": 39,
   "metadata": {},
   "outputs": [
    {
     "data": {
      "image/png": "[encoded data removed]",
      "text/plain": [
       "<matplotlib.figure.Figure at 0x19315443208>"
      ]
     },
     "metadata": {},
     "output_type": "display_data"
    }
   ],
   "source": [
    "normal_data = []\n",
    "for arr in data:\n",
    "    arr = [i for i in arr if i < 100] # Remove outliers with more than 99 g sugar per 100 g weight. \n",
    "    normal_data.append(arr)\n",
    "    \n",
    "plt.figure(figsize=(8, 6))\n",
    "plt.boxplot(normal_data)\n",
    "plt.xticks(range(1, len(labels) + 1), labels)\n",
    "plt.ylabel(\"% sugars\")\n",
    "plt.title(\"Sugar content in some groups of sugary snacks in %\")\n",
    "plt.show()"
   ]
  },
  {
   "cell_type": "code",
   "execution_count": 40,
   "metadata": {},
   "outputs": [
    {
     "name": "stdout",
     "output_type": "stream",
     "text": [
      "Subgroup name: biscuits and cakes\n",
      "    Mean: 30.71\n",
      "    Standart Devaition: 10.33\n",
      "    Median: 30.1\n",
      "    Mode: 28.0\n",
      "    Skewness: 0.21\n",
      "\n",
      "Subgroup name: chocolate products\n",
      "    Mean: 42.92\n",
      "    Standart Devaition: 15.06\n",
      "    Median: 46.5\n",
      "    Mode: 50.0\n",
      "    Skewness: -0.67\n",
      "\n",
      "Subgroup name: pastries\n",
      "    Mean: 14.7\n",
      "    Standart Devaition: 5.45\n",
      "    Median: 13.6\n",
      "    Mode: 12.0\n",
      "    Skewness: 1.91\n",
      "\n",
      "Subgroup name: sweets\n",
      "    Mean: 53.87\n",
      "    Standart Devaition: 19.96\n",
      "    Median: 54.0\n",
      "    Mode: 59.0\n",
      "    Skewness: -0.26\n",
      "\n"
     ]
    }
   ],
   "source": [
    "count = 0\n",
    "for label in labels:\n",
    "    print(\"Subgroup name: \" + label)\n",
    "    print(\"    Mean: {}\".format(round(np.mean(normal_data[count]),2)))\n",
    "    print(\"    Standart Devaition: {}\".format(round(np.std(normal_data[count]),2)))\n",
    "    print(\"    Median: {}\".format(round(np.median(normal_data[count]),2)))\n",
    "    print(\"    Mode: {}\".format(stats.mode(normal_data[count])[0][0]))\n",
    "    print(\"    Skewness: {}\".format(round(stats.skew(normal_data[count]),2)))\n",
    "    \n",
    "    print()\n",
    "    count += 1"
   ]
  },
  {
   "cell_type": "markdown",
   "metadata": {},
   "source": [
    "Interesting fact according to our dataset is pasties has the least sugar compare to biscuits and others. For instance, I have always believed that there is more sugar in a creamy birthday cakes than in a box of biscuits. \n",
    "\n",
    "Perhaps I am wrong.\n",
    "It could be because in pasties mainly are used more artificial sweeteners. Let's check this hypothesis by doing some NLP analysis."
   ]
  },
  {
   "cell_type": "markdown",
   "metadata": {},
   "source": [
    "### IV. Analyzing Data - Visualize, Explore, Analyze"
   ]
  },
  {
   "cell_type": "markdown",
   "metadata": {},
   "source": [
    "To check the content of artificial sweeteners we need to find their names. We got them from an article on web.\n",
    "Then, we group by ingredients every subgroup in `sugary snacks` and extract by NPL all the meaningful words. After that we compare the word result, one by one, with the most common E names for artificial sweeteners."
   ]
  },
  {
   "cell_type": "code",
   "execution_count": 41,
   "metadata": {},
   "outputs": [],
   "source": [
    "es = {\"e420\": \"sorbitol\",  # Common Sweeteners List\n",
    "\"e421\": \"mannitol\",\n",
    "\"e422\": \"glycerol\",\n",
    "\"e950\": \"acesulfame\",\n",
    "\"e951\": \"aspartame\",\n",
    "\"e952\": \"cyclamate\",\n",
    "\"e953\": \"isomalt\",\n",
    "\"e954\": \"saccharin\", \n",
    "\"e955\": \"sucralose\",\n",
    "\"e956\": \"alitame\",\n",
    "\"e957\": \"thaumatin\", \n",
    "\"e958\": \"glycyrrhizin\", \n",
    "\"e959\": \"neohesperidin\",\n",
    "\"e960\": \"stevioside\",\n",
    "\"e961\": \"neotame\",\n",
    "\"e962\": \"aspartame\",\n",
    "\"e965\": \"maltitol\",\n",
    "\"e966\": \"lactitol\",\n",
    "\"e967\": \"xylitol\",\n",
    "\"e968\": \"erythritol\", \n",
    "\"e969\": \"advantame\"}"
   ]
  },
  {
   "cell_type": "code",
   "execution_count": 42,
   "metadata": {},
   "outputs": [],
   "source": [
    "additives_by_groups = {}\n",
    "stops = set(stopwords.words(\"english\"))\n",
    "\n",
    "for eachgroup in sweets_grouped.additives_en:\n",
    "    text_words = re.split(\"\\\\W+\",  str(eachgroup[1].tolist()).lower())\n",
    "\n",
    "    additives_by_groups[eachgroup[0]] = Counter([w for w in text_words if w not in stops and len(w) > 2 and w != \"nan\"])"
   ]
  },
  {
   "cell_type": "code",
   "execution_count": 43,
   "metadata": {},
   "outputs": [],
   "source": [
    "found_es = [] # Es by group in sugary snakcs by quantity\n",
    "for e in es:\n",
    "    for group in additives_by_groups:\n",
    "        current_group_dataframe = pd.DataFrame.from_dict(additives_by_groups[group], orient='index').reset_index()\n",
    "        current_group_dataframe.columns = [\"names\", \"qnty\"]\n",
    "        total_founds = current_group_dataframe[current_group_dataframe.names.str.contains(e)== True].qnty.sum()\n",
    "        found_es.append({\"group name\": group, \"E\": e, \"qnty\": total_founds})\n",
    "    \n",
    "found_es = pd.DataFrame(found_es).groupby(\"group name\")"
   ]
  },
  {
   "cell_type": "code",
   "execution_count": 44,
   "metadata": {},
   "outputs": [
    {
     "data": {
      "image/png": "[encoded data removed]",
      "text/plain": [
       "<matplotlib.figure.Figure at 0x19315443518>"
      ]
     },
     "metadata": {},
     "output_type": "display_data"
    }
   ],
   "source": [
    "es_content_by_subgroups = {}\n",
    "for eachgroup in found_es:\n",
    "    es_content_by_subgroups[eachgroup[0]] = extract_observs(found_es, eachgroup[0], \"qnty\")\n",
    "labels, data = [*zip(*es_content_by_subgroups.items())]\n",
    "plt.figure(figsize=(8, 6))\n",
    "plt.boxplot(data)\n",
    "plt.xticks(range(1, len(labels) + 1), labels)\n",
    "plt.show()"
   ]
  },
  {
   "cell_type": "markdown",
   "metadata": {},
   "source": [
    "Now we can tell that adding more artificial sweeteners is not related to adding less sugar in pastries. Overall usage of artificial sweeteners is shrunk, according to this boxplot.\n",
    "The other thing is that nowdays the food industry could use some staff not listed in our most common artificial sweeteners list.\n",
    "\n",
    "Me, personally prefer a good sweet pastry but let us check what loves some college students in the next dataset.\n",
    "*I still believe that sugar is the root of every evil.*"
   ]
  },
  {
   "cell_type": "markdown",
   "metadata": {},
   "source": [
    "### V. Analyzing Consistency of `Food Choices` Dataset"
   ]
  },
  {
   "cell_type": "markdown",
   "metadata": {},
   "source": [
    "Firstly we want to check if the people in the dataset are not only fatty girly nerds :) and can we trust their judgment. \n",
    "\n",
    "We start by presenting distribution in gender and weights. We draw the weights of both genders distribution on a plot. Everything looks ok. Mainly, the boys are heavier than the girls and the amount of weights is situated in the middle of the chart. The range of this dataset cover different groups of eaters. This says not only too thin or too fat individuals. Girls are more as always."
   ]
  },
  {
   "cell_type": "code",
   "execution_count": 45,
   "metadata": {},
   "outputs": [
    {
     "data": {
      "image/png": "[encoded data removed]",
      "text/plain": [
       "<matplotlib.figure.Figure at 0x193155d6ba8>"
      ]
     },
     "metadata": {},
     "output_type": "display_data"
    }
   ],
   "source": [
    "students_weight = students_data[students_data[\"weight\"].notnull()]\n",
    "\n",
    "fig, ax = plt.subplots(1,1)\n",
    "plt.hist(students_weight[students_weight.Gender == 1].weight, label = \"Female\", alpha = 0.4) # Female\n",
    "plt.hist(students_weight[students_weight.Gender == 2].weight, label = \"Male\", alpha = 0.4) # Male\n",
    "ax.set_xticks(ax.get_xticks()[::5])\n",
    "plt.legend()\n",
    "plt.title(\"Distribution of college students \\nby weight and gender\")\n",
    "plt.xlabel(\"Weigth in pounds\")\n",
    "plt.ylabel(\"Students\")\n",
    "plt.show()"
   ]
  },
  {
   "cell_type": "markdown",
   "metadata": {},
   "source": [
    "After that these is one other interesting feature to measure the quality of the people in the dataset. In this question people should guess the number of calories in a chicken meal. Everyone in Europe, even Google, knows that chicken piadina calories suppose to be about 720 in portion. We compare their GPA scores in schooling to their accuracy by answering this simple food question. \n",
    "\n",
    "To do that we need a little cleaning in the GPA feature. It is an object, but supposed to be float. We clean this. Then we draw a chart. The chart shows smart people are almost smart enough to know the answer of this simple food question.\n",
    "\n",
    "So we can continue and examine these nice people's choices for comfort food. A comfort food is the closest thing I can imagine to my favorite `sugary snacks`. :)"
   ]
  },
  {
   "cell_type": "code",
   "execution_count": 46,
   "metadata": {},
   "outputs": [
    {
     "data": {
      "text/plain": [
       "array(['2.4', '3.654', '3.3', '3.2', '3.5', '2.25', '3.8', '3.904', '3.4',\n",
       "       '3.6', '3.1', '4', '2.2', '3.87', '3.7', '3.9', '2.8', '3', '3.65',\n",
       "       '3.89', '2.9', '3.605', '3.83', '3.292', '3.35', 'Personal ',\n",
       "       '2.6', '3.67', '3.73', '3.79 bitch', '2.71', '3.68', '3.75',\n",
       "       '3.92', 'Unknown', '3.77', '3.63', '3.882'], dtype=object)"
      ]
     },
     "execution_count": 46,
     "metadata": {},
     "output_type": "execute_result"
    }
   ],
   "source": [
    "students_GPA = students_data[students_data[\"GPA\"].notnull()]\n",
    "students_GPA.GPA.unique()"
   ]
  },
  {
   "cell_type": "code",
   "execution_count": 47,
   "metadata": {},
   "outputs": [
    {
     "data": {
      "text/plain": [
       "array([2.4 , 3.65, 3.3 , 3.2 , 3.5 , 2.25, 3.8 , 3.9 , 3.4 , 3.6 , 3.1 ,\n",
       "       4.  , 2.2 , 3.87, 3.7 , 2.8 , 3.  , 3.89, 2.9 , 3.83, 3.29, 3.35,\n",
       "       2.6 , 3.67, 3.73, 3.79, 2.71, 3.68, 3.75, 3.92, 3.77, 3.63, 3.88])"
      ]
     },
     "execution_count": 47,
     "metadata": {},
     "output_type": "execute_result"
    }
   ],
   "source": [
    "# Use regex to clean blended data, fill missing values and set up dtype\n",
    "students_data[\"GPA\"] = students_data[students_data[\"GPA\"].notnull()].GPA.str.replace(r'[^\\d\\.\\d+]', '').replace((np.nan, ''), '3.5').astype(float).round(2)\n",
    "\n",
    "students_GPA = students_data[students_data[\"GPA\"].notnull()]\n",
    "students_GPA.GPA.unique()"
   ]
  },
  {
   "cell_type": "code",
   "execution_count": 48,
   "metadata": {},
   "outputs": [
    {
     "data": {
      "image/png": "[encoded data removed]",
      "text/plain": [
       "<matplotlib.figure.Figure at 0x19315616a90>"
      ]
     },
     "metadata": {},
     "output_type": "display_data"
    }
   ],
   "source": [
    "fig, ax = plt.subplots(figsize=[16,4])\n",
    "\n",
    "plt.hist(students_GPA[students_GPA.calories_chicken == 265].GPA, label = \"265\", alpha = 0.4) # Female\n",
    "plt.hist(students_GPA[students_GPA.calories_chicken == 610].GPA, label = \"610\", alpha = 0.4) # Male\n",
    "plt.hist(students_GPA[students_GPA.calories_chicken == 720].GPA, label = \"720\", alpha = 0.4, color=\"purple\") # Male\n",
    "\n",
    "plt.title(\"Students knowing the corrent answer distubuted by their GPA score\")\n",
    "plt.xlabel(\"Scores by GPA\")\n",
    "plt.ylabel(\"Students\")\n",
    "\n",
    "plt.legend()\n",
    "plt.show() # correct answer is 720"
   ]
  },
  {
   "cell_type": "markdown",
   "metadata": {},
   "source": [
    "### VI. Preparing Prefered Comfort Food Data for Further Sugar Contents Analysis"
   ]
  },
  {
   "cell_type": "markdown",
   "metadata": {},
   "source": [
    "Now we can surely extract people choices for comfort food and do a natural language processing to find out which of them are the most common foods. After that the plan is to compare their **sugar content per 100 g** and to ask a questions **is there any relation between that the more people prefer one food the much more sugar there is it.**"
   ]
  },
  {
   "cell_type": "code",
   "execution_count": 49,
   "metadata": {},
   "outputs": [],
   "source": [
    "comfort_food = str(students_data.comfort_food.tolist())\n",
    "stops = set(stopwords.words(\"english\"))\n",
    "text_words = re.split(\"\\\\W+\",  comfort_food.lower())\n",
    "most_common_comfort_food = Counter([w for w in text_words if w not in stops]).most_common(10)"
   ]
  },
  {
   "cell_type": "code",
   "execution_count": 50,
   "metadata": {},
   "outputs": [
    {
     "data": {
      "image/png": "[encoded data removed]",
      "text/plain": [
       "<matplotlib.figure.Figure at 0x1931850be10>"
      ]
     },
     "metadata": {},
     "output_type": "display_data"
    }
   ],
   "source": [
    "common_comfort_food = []\n",
    "for i, g in most_common_comfort_food:\n",
    "    if i == \"ice\" or i == \"n\" or i == \"french\" or i ==\"food\": # skip doubled words\n",
    "        continue\n",
    "    else:\n",
    "        if i == \"cream\":\n",
    "            common_comfort_food.append([\"ice cream\", g])\n",
    "        elif i == \"fries\":\n",
    "            common_comfort_food.append([\"french fries\", g])\n",
    "        elif i == \"chinese\":\n",
    "            common_comfort_food.append([\"chinese food\", g])\n",
    "        else:         \n",
    "            common_comfort_food.append([i, g])\n",
    "   \n",
    "plt.barh(pd.DataFrame(common_comfort_food)[0], pd.DataFrame(common_comfort_food)[1])\n",
    "plt.title(\"prefered junk foods\")\n",
    "plt.xlabel(\"qnty people\")\n",
    "plt.show()"
   ]
  },
  {
   "cell_type": "markdown",
   "metadata": {},
   "source": [
    "At first look, we can tell that the most loved comfort food **ice cream** contains the most sugars in 100 g. But is the high sugar content makes us love a food more? Will see soon."
   ]
  },
  {
   "cell_type": "code",
   "execution_count": 51,
   "metadata": {},
   "outputs": [],
   "source": [
    "common_comfort_food = pd.DataFrame(common_comfort_food)\n",
    "common_comfort_food.columns = [\"food\", \"qnty\"]"
   ]
  },
  {
   "cell_type": "code",
   "execution_count": 52,
   "metadata": {},
   "outputs": [],
   "source": [
    "def get_mean_sugars_by_food(food):\n",
    "    return food_data[food_data.product_name.str.contains(food) == True].sugars_100g.mean()"
   ]
  },
  {
   "cell_type": "code",
   "execution_count": 53,
   "metadata": {},
   "outputs": [],
   "source": [
    "sugars_in_common_comfort_foods = []\n",
    "for i in common_comfort_food.food:\n",
    "    sugars_in_common_comfort_foods.append([i, get_mean_sugars_by_food(i)])"
   ]
  },
  {
   "cell_type": "code",
   "execution_count": 54,
   "metadata": {},
   "outputs": [],
   "source": [
    "sugars_in_common_comfort_foods = pd.DataFrame(sugars_in_common_comfort_foods)"
   ]
  },
  {
   "cell_type": "code",
   "execution_count": 55,
   "metadata": {},
   "outputs": [],
   "source": [
    "common_comfort_food = pd.concat([common_comfort_food, round(sugars_in_common_comfort_foods[1], 2)], axis = 1)\n",
    "common_comfort_food.rename(columns={1: 'mean sugars in 100 g'}, inplace=True)"
   ]
  },
  {
   "cell_type": "code",
   "execution_count": 56,
   "metadata": {},
   "outputs": [],
   "source": [
    "common_comfort_food.drop(8, axis=0, inplace = True) # delete last food because of null observations for sugar content"
   ]
  },
  {
   "cell_type": "code",
   "execution_count": 57,
   "metadata": {},
   "outputs": [
    {
     "data": {
      "text/html": [
       "<div>\n",
       "<style scoped>\n",
       "    .dataframe tbody tr th:only-of-type {\n",
       "        vertical-align: middle;\n",
       "    }\n",
       "\n",
       "    .dataframe tbody tr th {\n",
       "        vertical-align: top;\n",
       "    }\n",
       "\n",
       "    .dataframe thead th {\n",
       "        text-align: right;\n",
       "    }\n",
       "</style>\n",
       "<table border=\"1\" class=\"dataframe\">\n",
       "  <thead>\n",
       "    <tr style=\"text-align: right;\">\n",
       "      <th></th>\n",
       "      <th>food</th>\n",
       "      <th>qnty</th>\n",
       "      <th>mean sugars in 100 g</th>\n",
       "    </tr>\n",
       "  </thead>\n",
       "  <tbody>\n",
       "    <tr>\n",
       "      <th>0</th>\n",
       "      <td>ice cream</td>\n",
       "      <td>49</td>\n",
       "      <td>25.18</td>\n",
       "    </tr>\n",
       "    <tr>\n",
       "      <th>1</th>\n",
       "      <td>pizza</td>\n",
       "      <td>40</td>\n",
       "      <td>2.76</td>\n",
       "    </tr>\n",
       "    <tr>\n",
       "      <th>2</th>\n",
       "      <td>chocolate</td>\n",
       "      <td>34</td>\n",
       "      <td>31.75</td>\n",
       "    </tr>\n",
       "    <tr>\n",
       "      <th>3</th>\n",
       "      <td>chips</td>\n",
       "      <td>34</td>\n",
       "      <td>8.15</td>\n",
       "    </tr>\n",
       "    <tr>\n",
       "      <th>4</th>\n",
       "      <td>cheese</td>\n",
       "      <td>23</td>\n",
       "      <td>4.85</td>\n",
       "    </tr>\n",
       "    <tr>\n",
       "      <th>5</th>\n",
       "      <td>cookies</td>\n",
       "      <td>19</td>\n",
       "      <td>30.65</td>\n",
       "    </tr>\n",
       "    <tr>\n",
       "      <th>6</th>\n",
       "      <td>mac</td>\n",
       "      <td>18</td>\n",
       "      <td>16.65</td>\n",
       "    </tr>\n",
       "    <tr>\n",
       "      <th>7</th>\n",
       "      <td>chicken</td>\n",
       "      <td>14</td>\n",
       "      <td>3.38</td>\n",
       "    </tr>\n",
       "  </tbody>\n",
       "</table>\n",
       "</div>"
      ],
      "text/plain": [
       "        food  qnty  mean sugars in 100 g\n",
       "0  ice cream    49                 25.18\n",
       "1      pizza    40                  2.76\n",
       "2  chocolate    34                 31.75\n",
       "3      chips    34                  8.15\n",
       "4     cheese    23                  4.85\n",
       "5    cookies    19                 30.65\n",
       "6        mac    18                 16.65\n",
       "7    chicken    14                  3.38"
      ]
     },
     "execution_count": 57,
     "metadata": {},
     "output_type": "execute_result"
    }
   ],
   "source": [
    "common_comfort_food"
   ]
  },
  {
   "cell_type": "markdown",
   "metadata": {},
   "source": [
    "Now, we have the most prefered comfort food of 125 college students and its sugars content. Next step is to find out is there any correlation between this how much loved is one food and this how much sugar is in it.\n",
    "But since we have one more dataset to dig in let's mine some useful for out survey data and add it to our `common_comfort_food` table."
   ]
  },
  {
   "cell_type": "markdown",
   "metadata": {},
   "source": [
    "### VII. Collecting Relevant Data from `Foodborne Disease Outbreaks` Dataset"
   ]
  },
  {
   "cell_type": "markdown",
   "metadata": {},
   "source": [
    "Here we go through all the dataset and collect cases related to our so far collected most common comfort foods. I wonder if I love one food more does it make me necessary more likely to get sick by eating it.\n",
    "We continue with adding to our table reported cases of illness and death by consuming certain food."
   ]
  },
  {
   "cell_type": "code",
   "execution_count": 58,
   "metadata": {},
   "outputs": [],
   "source": [
    "def get_disease_by_food(food):\n",
    "    return disease_data[disease_data.Food.str.lower().str.contains(food)== True].Illnesses.mean()"
   ]
  },
  {
   "cell_type": "code",
   "execution_count": 59,
   "metadata": {},
   "outputs": [],
   "source": [
    "diseases_by_common_comfort_foods = []\n",
    "for i in common_comfort_food.food:\n",
    "    diseases_by_common_comfort_foods.append([i, get_disease_by_food(i)])\n",
    "diseases_by_common_comfort_foods = pd.DataFrame(diseases_by_common_comfort_foods)"
   ]
  },
  {
   "cell_type": "code",
   "execution_count": 60,
   "metadata": {},
   "outputs": [],
   "source": [
    "common_comfort_food = pd.concat([common_comfort_food, round(diseases_by_common_comfort_foods[1],2)], axis = 1)\n",
    "common_comfort_food.rename(columns={1: 'mean qnty diseases'}, inplace=True)"
   ]
  },
  {
   "cell_type": "code",
   "execution_count": 61,
   "metadata": {},
   "outputs": [
    {
     "data": {
      "text/html": [
       "<div>\n",
       "<style scoped>\n",
       "    .dataframe tbody tr th:only-of-type {\n",
       "        vertical-align: middle;\n",
       "    }\n",
       "\n",
       "    .dataframe tbody tr th {\n",
       "        vertical-align: top;\n",
       "    }\n",
       "\n",
       "    .dataframe thead th {\n",
       "        text-align: right;\n",
       "    }\n",
       "</style>\n",
       "<table border=\"1\" class=\"dataframe\">\n",
       "  <thead>\n",
       "    <tr style=\"text-align: right;\">\n",
       "      <th></th>\n",
       "      <th>qnty</th>\n",
       "      <th>mean sugars in 100 g</th>\n",
       "      <th>mean qnty diseases</th>\n",
       "    </tr>\n",
       "  </thead>\n",
       "  <tbody>\n",
       "    <tr>\n",
       "      <th>qnty</th>\n",
       "      <td>1.000000</td>\n",
       "      <td>0.169431</td>\n",
       "      <td>-0.610626</td>\n",
       "    </tr>\n",
       "    <tr>\n",
       "      <th>mean sugars in 100 g</th>\n",
       "      <td>0.169431</td>\n",
       "      <td>1.000000</td>\n",
       "      <td>0.381252</td>\n",
       "    </tr>\n",
       "    <tr>\n",
       "      <th>mean qnty diseases</th>\n",
       "      <td>-0.610626</td>\n",
       "      <td>0.381252</td>\n",
       "      <td>1.000000</td>\n",
       "    </tr>\n",
       "  </tbody>\n",
       "</table>\n",
       "</div>"
      ],
      "text/plain": [
       "                          qnty  mean sugars in 100 g  mean qnty diseases\n",
       "qnty                  1.000000              0.169431           -0.610626\n",
       "mean sugars in 100 g  0.169431              1.000000            0.381252\n",
       "mean qnty diseases   -0.610626              0.381252            1.000000"
      ]
     },
     "execution_count": 61,
     "metadata": {},
     "output_type": "execute_result"
    }
   ],
   "source": [
    "common_comfort_food.corr()"
   ]
  },
  {
   "cell_type": "code",
   "execution_count": 62,
   "metadata": {},
   "outputs": [],
   "source": [
    "def get_deaths_by_food(food):\n",
    "    return disease_data[disease_data.Food.str.lower().str.contains(food)== True].Fatalities.mean()"
   ]
  },
  {
   "cell_type": "code",
   "execution_count": 63,
   "metadata": {},
   "outputs": [],
   "source": [
    "deaths_by_common_comfort_foods = []\n",
    "for i in common_comfort_food.food:\n",
    "    deaths_by_common_comfort_foods.append([i, get_deaths_by_food(i)])\n",
    "deaths_by_common_comfort_foods = pd.DataFrame(deaths_by_common_comfort_foods)"
   ]
  },
  {
   "cell_type": "code",
   "execution_count": 64,
   "metadata": {},
   "outputs": [
    {
     "data": {
      "text/html": [
       "<div>\n",
       "<style scoped>\n",
       "    .dataframe tbody tr th:only-of-type {\n",
       "        vertical-align: middle;\n",
       "    }\n",
       "\n",
       "    .dataframe tbody tr th {\n",
       "        vertical-align: top;\n",
       "    }\n",
       "\n",
       "    .dataframe thead th {\n",
       "        text-align: right;\n",
       "    }\n",
       "</style>\n",
       "<table border=\"1\" class=\"dataframe\">\n",
       "  <thead>\n",
       "    <tr style=\"text-align: right;\">\n",
       "      <th></th>\n",
       "      <th>food</th>\n",
       "      <th>qnty</th>\n",
       "      <th>mean sugars in 100 g</th>\n",
       "      <th>mean qnty diseases</th>\n",
       "      <th>mean qnty deaths</th>\n",
       "    </tr>\n",
       "  </thead>\n",
       "  <tbody>\n",
       "    <tr>\n",
       "      <th>0</th>\n",
       "      <td>ice cream</td>\n",
       "      <td>49</td>\n",
       "      <td>25.18</td>\n",
       "      <td>16.33</td>\n",
       "      <td>0.0617</td>\n",
       "    </tr>\n",
       "    <tr>\n",
       "      <th>1</th>\n",
       "      <td>pizza</td>\n",
       "      <td>40</td>\n",
       "      <td>2.76</td>\n",
       "      <td>7.91</td>\n",
       "      <td>0.0156</td>\n",
       "    </tr>\n",
       "    <tr>\n",
       "      <th>2</th>\n",
       "      <td>chocolate</td>\n",
       "      <td>34</td>\n",
       "      <td>31.75</td>\n",
       "      <td>18.56</td>\n",
       "      <td>0.0000</td>\n",
       "    </tr>\n",
       "    <tr>\n",
       "      <th>3</th>\n",
       "      <td>chips</td>\n",
       "      <td>34</td>\n",
       "      <td>8.15</td>\n",
       "      <td>17.03</td>\n",
       "      <td>0.0000</td>\n",
       "    </tr>\n",
       "    <tr>\n",
       "      <th>4</th>\n",
       "      <td>cheese</td>\n",
       "      <td>23</td>\n",
       "      <td>4.85</td>\n",
       "      <td>18.92</td>\n",
       "      <td>0.0634</td>\n",
       "    </tr>\n",
       "    <tr>\n",
       "      <th>5</th>\n",
       "      <td>cookies</td>\n",
       "      <td>19</td>\n",
       "      <td>30.65</td>\n",
       "      <td>27.03</td>\n",
       "      <td>0.0000</td>\n",
       "    </tr>\n",
       "    <tr>\n",
       "      <th>6</th>\n",
       "      <td>mac</td>\n",
       "      <td>18</td>\n",
       "      <td>16.65</td>\n",
       "      <td>36.68</td>\n",
       "      <td>0.0282</td>\n",
       "    </tr>\n",
       "    <tr>\n",
       "      <th>7</th>\n",
       "      <td>chicken</td>\n",
       "      <td>14</td>\n",
       "      <td>3.38</td>\n",
       "      <td>17.93</td>\n",
       "      <td>0.0115</td>\n",
       "    </tr>\n",
       "  </tbody>\n",
       "</table>\n",
       "</div>"
      ],
      "text/plain": [
       "        food  qnty  mean sugars in 100 g  mean qnty diseases  mean qnty deaths\n",
       "0  ice cream    49                 25.18               16.33            0.0617\n",
       "1      pizza    40                  2.76                7.91            0.0156\n",
       "2  chocolate    34                 31.75               18.56            0.0000\n",
       "3      chips    34                  8.15               17.03            0.0000\n",
       "4     cheese    23                  4.85               18.92            0.0634\n",
       "5    cookies    19                 30.65               27.03            0.0000\n",
       "6        mac    18                 16.65               36.68            0.0282\n",
       "7    chicken    14                  3.38               17.93            0.0115"
      ]
     },
     "execution_count": 64,
     "metadata": {},
     "output_type": "execute_result"
    }
   ],
   "source": [
    "common_comfort_food = pd.concat([common_comfort_food, round(deaths_by_common_comfort_foods[1],4)], axis = 1)\n",
    "common_comfort_food.rename(columns = {1: 'mean qnty deaths'}, inplace = True)\n",
    "common_comfort_food"
   ]
  },
  {
   "cell_type": "markdown",
   "metadata": {},
   "source": [
    "### VIII. Forming hypothesis and a try of testing it"
   ]
  },
  {
   "cell_type": "markdown",
   "metadata": {},
   "source": [
    "Now, when we have all the related data which helps us answer the next question - *Does more sugar make us sicker?*\n",
    "Correlation coefficient between `mean sugars in 100 g` and `mean qnty diseases` gives us information about a weak uphill (positive) linear relationship. We can tell that **there is probability the more sugar we eat with our comfort food the more likely is to get sick soon or later.**\n",
    "\n",
    "On the other hand, I see something very interesting. There is a strong downhill (negative) linear relationship between `qnty of people loving this food` and `mean qnty diseases`. This means that **more eaters for a particular comfort food, less caused by it health troubles**. Of course, it is a good idea to test validity of these two statements."
   ]
  },
  {
   "cell_type": "code",
   "execution_count": 65,
   "metadata": {},
   "outputs": [
    {
     "data": {
      "text/html": [
       "<div>\n",
       "<style scoped>\n",
       "    .dataframe tbody tr th:only-of-type {\n",
       "        vertical-align: middle;\n",
       "    }\n",
       "\n",
       "    .dataframe tbody tr th {\n",
       "        vertical-align: top;\n",
       "    }\n",
       "\n",
       "    .dataframe thead th {\n",
       "        text-align: right;\n",
       "    }\n",
       "</style>\n",
       "<table border=\"1\" class=\"dataframe\">\n",
       "  <thead>\n",
       "    <tr style=\"text-align: right;\">\n",
       "      <th></th>\n",
       "      <th>qnty</th>\n",
       "      <th>mean sugars in 100 g</th>\n",
       "      <th>mean qnty diseases</th>\n",
       "      <th>mean qnty deaths</th>\n",
       "    </tr>\n",
       "  </thead>\n",
       "  <tbody>\n",
       "    <tr>\n",
       "      <th>qnty</th>\n",
       "      <td>1.000000</td>\n",
       "      <td>0.169431</td>\n",
       "      <td>-0.610626</td>\n",
       "      <td>0.248031</td>\n",
       "    </tr>\n",
       "    <tr>\n",
       "      <th>mean sugars in 100 g</th>\n",
       "      <td>0.169431</td>\n",
       "      <td>1.000000</td>\n",
       "      <td>0.381252</td>\n",
       "      <td>-0.161227</td>\n",
       "    </tr>\n",
       "    <tr>\n",
       "      <th>mean qnty diseases</th>\n",
       "      <td>-0.610626</td>\n",
       "      <td>0.381252</td>\n",
       "      <td>1.000000</td>\n",
       "      <td>-0.029030</td>\n",
       "    </tr>\n",
       "    <tr>\n",
       "      <th>mean qnty deaths</th>\n",
       "      <td>0.248031</td>\n",
       "      <td>-0.161227</td>\n",
       "      <td>-0.029030</td>\n",
       "      <td>1.000000</td>\n",
       "    </tr>\n",
       "  </tbody>\n",
       "</table>\n",
       "</div>"
      ],
      "text/plain": [
       "                          qnty  mean sugars in 100 g  mean qnty diseases  \\\n",
       "qnty                  1.000000              0.169431           -0.610626   \n",
       "mean sugars in 100 g  0.169431              1.000000            0.381252   \n",
       "mean qnty diseases   -0.610626              0.381252            1.000000   \n",
       "mean qnty deaths      0.248031             -0.161227           -0.029030   \n",
       "\n",
       "                      mean qnty deaths  \n",
       "qnty                          0.248031  \n",
       "mean sugars in 100 g         -0.161227  \n",
       "mean qnty diseases           -0.029030  \n",
       "mean qnty deaths              1.000000  "
      ]
     },
     "execution_count": 65,
     "metadata": {},
     "output_type": "execute_result"
    }
   ],
   "source": [
    "common_comfort_food.corr()"
   ]
  },
  {
   "cell_type": "markdown",
   "metadata": {},
   "source": [
    "#### Testing Hypothesis\n",
    "##### Relation between `mean sugars in 100 g` and `mean qnty diseases`"
   ]
  },
  {
   "cell_type": "markdown",
   "metadata": {},
   "source": [
    "Is sugars related to diseases? To what extent? Is it significant?\n",
    "* $H_0$: No relation between Sugars and Diseases\n",
    "* $H_1$: Some relation exists between Sugars and Diseases\n",
    "* $\\alpha = 0,05$"
   ]
  },
  {
   "cell_type": "code",
   "execution_count": 66,
   "metadata": {},
   "outputs": [
    {
     "data": {
      "text/plain": [
       "Ttest_indResult(statistic=-0.8742882885510564, pvalue=0.39671170882425855)"
      ]
     },
     "execution_count": 66,
     "metadata": {},
     "output_type": "execute_result"
    }
   ],
   "source": [
    "ttest_ind(common_comfort_food[\"mean sugars in 100 g\"], common_comfort_food[\"mean qnty diseases\"])"
   ]
  },
  {
   "cell_type": "code",
   "execution_count": 67,
   "metadata": {},
   "outputs": [
    {
     "data": {
      "text/plain": [
       "0.2288519727170065"
      ]
     },
     "execution_count": 67,
     "metadata": {},
     "output_type": "execute_result"
    }
   ],
   "source": [
    "sugars_rating = pd.crosstab(common_comfort_food[\"mean sugars in 100 g\"], common_comfort_food[\"mean qnty diseases\"])\n",
    "chi2, pvalue, dof, expected = st.chi2_contingency(sugars_rating)\n",
    "pvalue"
   ]
  },
  {
   "cell_type": "markdown",
   "metadata": {},
   "source": [
    "`pvalue` is more than 0.05 so sadly there is no reason to reject $H_0$."
   ]
  },
  {
   "cell_type": "markdown",
   "metadata": {},
   "source": [
    "##### Relation  between `qnty of people loving this food` and `mean sugars in 100 g`"
   ]
  },
  {
   "cell_type": "markdown",
   "metadata": {},
   "source": [
    "Is sugars related to how much we love a food? To what extent? Is it significant?\n",
    "* $H_0$: No relation between Sugars and peoples love\n",
    "* $H_1$: Some relation exists between Sugars and peoples love\n",
    "* $\\alpha = 0,05$"
   ]
  },
  {
   "cell_type": "code",
   "execution_count": 71,
   "metadata": {},
   "outputs": [
    {
     "data": {
      "text/plain": [
       "Ttest_indResult(statistic=-2.1875901164777054, pvalue=0.04616085994377278)"
      ]
     },
     "execution_count": 71,
     "metadata": {},
     "output_type": "execute_result"
    }
   ],
   "source": [
    "ttest_ind(common_comfort_food[\"mean sugars in 100 g\"], common_comfort_food[\"qnty\"])"
   ]
  },
  {
   "cell_type": "code",
   "execution_count": 72,
   "metadata": {},
   "outputs": [
    {
     "data": {
      "text/plain": [
       "0.24263868733675567"
      ]
     },
     "execution_count": 72,
     "metadata": {},
     "output_type": "execute_result"
    }
   ],
   "source": [
    "sugars_rating = pd.crosstab(common_comfort_food[\"mean sugars in 100 g\"], common_comfort_food[\"qnty\"])\n",
    "chi2, pvalue, dof, expected = st.chi2_contingency(sugars_rating)\n",
    "pvalue"
   ]
  },
  {
   "cell_type": "markdown",
   "metadata": {},
   "source": [
    "`pvalue` is more than 0.05 so sadly there is no reason to reject $H_0$."
   ]
  },
  {
   "cell_type": "markdown",
   "metadata": {},
   "source": [
    "##### Relation  between `qnty of people loving this food` and `mean qnty diseases`"
   ]
  },
  {
   "cell_type": "markdown",
   "metadata": {},
   "source": [
    "Is Food Rating related to diseases? To what extent? Is it significant?\n",
    "* $H_0$: No relation between Food Rating and Diseases\n",
    "* $H_1$: Some relation exists between Food Rating and Diseases\n",
    "* $\\alpha = 0,05$"
   ]
  },
  {
   "cell_type": "code",
   "execution_count": 68,
   "metadata": {},
   "outputs": [
    {
     "data": {
      "text/plain": [
       "Ttest_indResult(statistic=1.6741646766950173, pvalue=0.11628329428973744)"
      ]
     },
     "execution_count": 68,
     "metadata": {},
     "output_type": "execute_result"
    }
   ],
   "source": [
    "ttest_ind(common_comfort_food[\"qnty\"], common_comfort_food[\"mean qnty diseases\"])"
   ]
  },
  {
   "cell_type": "code",
   "execution_count": 69,
   "metadata": {},
   "outputs": [
    {
     "data": {
      "text/plain": [
       "0.24263868733675567"
      ]
     },
     "execution_count": 69,
     "metadata": {},
     "output_type": "execute_result"
    }
   ],
   "source": [
    "sugars_rating = pd.crosstab(common_comfort_food[\"qnty\"], common_comfort_food[\"mean qnty diseases\"])\n",
    "chi2, pvalue, dof, expected = st.chi2_contingency(sugars_rating)\n",
    "pvalue"
   ]
  },
  {
   "cell_type": "markdown",
   "metadata": {},
   "source": [
    "`pvalue` is more than 0.05 so sadly there is no reason to reject $H_0$."
   ]
  },
  {
   "cell_type": "markdown",
   "metadata": {},
   "source": [
    "## Conclusions and Summary\n",
    "We didn't make any brake through on the scientific food horizon today but we did a lot of hard work in this survey. We fulfilled all the steps for a good data science study. We analysed the sugar content in many of preferred comfort foods and made some good graphs.\n",
    "\n",
    "We found that cakes doesn't contains so much sugars nor artificial sweeteners as we expected. Also we found out that college students love at first place ice cream and pizza, who doesn't? We didn't found any significant relation between sugar content diseases and how much people love a comfort food.\n",
    "\n",
    "Of course, there is still a lot of chemical ingredients in our favorite comfort food to go through out and how knows... May be next time we will find significant relation between diseases and food content or between fav food ratings and its chemical composition.\n",
    "\n",
    "This notebook still provides good functions to look into upper presented Kaggle dataset. Next researchers could use them."
   ]
  },
  {
   "cell_type": "markdown",
   "metadata": {},
   "source": [
    "## References\n",
    "1. [How to draw a boxplot from a dictionary - Stack Overflow article](https://stackoverflow.com/questions/47657651/boxplot-from-dictionary-with-different-length)\n",
    "2. [E Number Index for Sweeteners](http://www.sugar-and-sweetener-guide.com/e-number-index-for-sweeteners.html)\n",
    "2. [Chicken Piadina Calories ](https://www.google.com/search?q=chicken+piadina+calories+&ie=utf-8&oe=utf-8&client=firefox-b-ab)\n",
    "3. [Chicken Piadina Recipe - in Saveur magazine](https://www.saveur.com/article/Recipes/Piadina-Romagnola-Romagnolan-Flatbread)\n",
    "4. Soft Uni Maths Cours:\n",
    "    * Lecture: Hypothesis Testing Exercise\n",
    "    * Lecture: Latex  Syntax\n",
    "5. [Kaggle How much sugar, additives, and salt do we eat Notebook](https://www.kaggle.com/bhouwens/how-much-sugar-do-we-eat)\n",
    "6. [Kaggle Food Choices Notebook](https://www.kaggle.com/borapajo/some-basic-stats-t-test-spearman-s-r)\n",
    "6. [Kaggle Open Food Facts Notebook](https://www.kaggle.com/nadiinchi/visualizing-data)"
   ]
  }
 ],
 "metadata": {
  "kernelspec": {
   "display_name": "Python 3",
   "language": "python",
   "name": "python3"
  },
  "language_info": {
   "codemirror_mode": {
    "name": "ipython",
    "version": 3
   },
   "file_extension": ".py",
   "mimetype": "text/x-python",
   "name": "python",
   "nbconvert_exporter": "python",
   "pygments_lexer": "ipython3",
   "version": "3.6.4"
  }
 },
 "nbformat": 4,
 "nbformat_minor": 2
}
