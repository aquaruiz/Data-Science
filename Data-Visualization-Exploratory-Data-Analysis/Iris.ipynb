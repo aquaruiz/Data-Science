{
 "cells": [
  {
   "cell_type": "code",
   "execution_count": 1,
   "metadata": {},
   "outputs": [],
   "source": [
    "%matplotlib inline"
   ]
  },
  {
   "cell_type": "code",
   "execution_count": 20,
   "metadata": {},
   "outputs": [],
   "source": [
    "import numpy as np\n",
    "import pandas as pd\n",
    "import matplotlib.pyplot as plt\n",
    "\n",
    "from scipy.stats import ttest_ind\n",
    "from scipy.stats import f_oneway"
   ]
  },
  {
   "cell_type": "code",
   "execution_count": 7,
   "metadata": {},
   "outputs": [
    {
     "data": {
      "text/html": [
       "<div>\n",
       "<style scoped>\n",
       "    .dataframe tbody tr th:only-of-type {\n",
       "        vertical-align: middle;\n",
       "    }\n",
       "\n",
       "    .dataframe tbody tr th {\n",
       "        vertical-align: top;\n",
       "    }\n",
       "\n",
       "    .dataframe thead th {\n",
       "        text-align: right;\n",
       "    }\n",
       "</style>\n",
       "<table border=\"1\" class=\"dataframe\">\n",
       "  <thead>\n",
       "    <tr style=\"text-align: right;\">\n",
       "      <th></th>\n",
       "      <th>sepal_length</th>\n",
       "      <th>sepal_width</th>\n",
       "      <th>petal_length</th>\n",
       "      <th>petal_width</th>\n",
       "      <th>class</th>\n",
       "    </tr>\n",
       "  </thead>\n",
       "  <tbody>\n",
       "    <tr>\n",
       "      <th>0</th>\n",
       "      <td>4.9</td>\n",
       "      <td>3.0</td>\n",
       "      <td>1.4</td>\n",
       "      <td>0.2</td>\n",
       "      <td>Iris-setosa</td>\n",
       "    </tr>\n",
       "    <tr>\n",
       "      <th>1</th>\n",
       "      <td>4.7</td>\n",
       "      <td>3.2</td>\n",
       "      <td>1.3</td>\n",
       "      <td>0.2</td>\n",
       "      <td>Iris-setosa</td>\n",
       "    </tr>\n",
       "    <tr>\n",
       "      <th>2</th>\n",
       "      <td>4.6</td>\n",
       "      <td>3.1</td>\n",
       "      <td>1.5</td>\n",
       "      <td>0.2</td>\n",
       "      <td>Iris-setosa</td>\n",
       "    </tr>\n",
       "    <tr>\n",
       "      <th>3</th>\n",
       "      <td>5.0</td>\n",
       "      <td>3.6</td>\n",
       "      <td>1.4</td>\n",
       "      <td>0.2</td>\n",
       "      <td>Iris-setosa</td>\n",
       "    </tr>\n",
       "    <tr>\n",
       "      <th>4</th>\n",
       "      <td>5.4</td>\n",
       "      <td>3.9</td>\n",
       "      <td>1.7</td>\n",
       "      <td>0.4</td>\n",
       "      <td>Iris-setosa</td>\n",
       "    </tr>\n",
       "  </tbody>\n",
       "</table>\n",
       "</div>"
      ],
      "text/plain": [
       "   sepal_length  sepal_width  petal_length  petal_width        class\n",
       "0           4.9          3.0           1.4          0.2  Iris-setosa\n",
       "1           4.7          3.2           1.3          0.2  Iris-setosa\n",
       "2           4.6          3.1           1.5          0.2  Iris-setosa\n",
       "3           5.0          3.6           1.4          0.2  Iris-setosa\n",
       "4           5.4          3.9           1.7          0.4  Iris-setosa"
      ]
     },
     "execution_count": 7,
     "metadata": {},
     "output_type": "execute_result"
    }
   ],
   "source": [
    "iris_data = pd.read_csv(\"data/iris.data\")\n",
    "iris_data.columns = [\"sepal_length\", \"sepal_width\", \"petal_length\", \"petal_width\", \"class\"]\n",
    "iris_data.head()\n"
   ]
  },
  {
   "cell_type": "code",
   "execution_count": 8,
   "metadata": {},
   "outputs": [
    {
     "data": {
      "text/plain": [
       "sepal_length    5.848322\n",
       "sepal_width     3.051007\n",
       "petal_length    3.774497\n",
       "petal_width     1.205369\n",
       "dtype: float64"
      ]
     },
     "execution_count": 8,
     "metadata": {},
     "output_type": "execute_result"
    }
   ],
   "source": [
    "iris_data.mean()"
   ]
  },
  {
   "cell_type": "code",
   "execution_count": 9,
   "metadata": {},
   "outputs": [
    {
     "data": {
      "text/html": [
       "<div>\n",
       "<style scoped>\n",
       "    .dataframe tbody tr th:only-of-type {\n",
       "        vertical-align: middle;\n",
       "    }\n",
       "\n",
       "    .dataframe tbody tr th {\n",
       "        vertical-align: top;\n",
       "    }\n",
       "\n",
       "    .dataframe thead th {\n",
       "        text-align: right;\n",
       "    }\n",
       "</style>\n",
       "<table border=\"1\" class=\"dataframe\">\n",
       "  <thead>\n",
       "    <tr style=\"text-align: right;\">\n",
       "      <th></th>\n",
       "      <th>sepal_length</th>\n",
       "      <th>sepal_width</th>\n",
       "      <th>petal_length</th>\n",
       "      <th>petal_width</th>\n",
       "    </tr>\n",
       "    <tr>\n",
       "      <th>class</th>\n",
       "      <th></th>\n",
       "      <th></th>\n",
       "      <th></th>\n",
       "      <th></th>\n",
       "    </tr>\n",
       "  </thead>\n",
       "  <tbody>\n",
       "    <tr>\n",
       "      <th>Iris-setosa</th>\n",
       "      <td>5.004082</td>\n",
       "      <td>3.416327</td>\n",
       "      <td>1.465306</td>\n",
       "      <td>0.244898</td>\n",
       "    </tr>\n",
       "    <tr>\n",
       "      <th>Iris-versicolor</th>\n",
       "      <td>5.936000</td>\n",
       "      <td>2.770000</td>\n",
       "      <td>4.260000</td>\n",
       "      <td>1.326000</td>\n",
       "    </tr>\n",
       "    <tr>\n",
       "      <th>Iris-virginica</th>\n",
       "      <td>6.588000</td>\n",
       "      <td>2.974000</td>\n",
       "      <td>5.552000</td>\n",
       "      <td>2.026000</td>\n",
       "    </tr>\n",
       "  </tbody>\n",
       "</table>\n",
       "</div>"
      ],
      "text/plain": [
       "                 sepal_length  sepal_width  petal_length  petal_width\n",
       "class                                                                \n",
       "Iris-setosa          5.004082     3.416327      1.465306     0.244898\n",
       "Iris-versicolor      5.936000     2.770000      4.260000     1.326000\n",
       "Iris-virginica       6.588000     2.974000      5.552000     2.026000"
      ]
     },
     "execution_count": 9,
     "metadata": {},
     "output_type": "execute_result"
    }
   ],
   "source": [
    "iris_data.groupby(\"class\").mean()"
   ]
  },
  {
   "cell_type": "code",
   "execution_count": 11,
   "metadata": {},
   "outputs": [],
   "source": [
    "# is there any sagnificiant diffrence between:... and ...\n",
    "setoca = iris_data[iris_data[\"class\"] == \"Iris-setosa\"].sepal_length\n",
    "virginica = iris_data[iris_data[\"class\"] == \"Iris-virginica\"].sepal_length"
   ]
  },
  {
   "cell_type": "code",
   "execution_count": 16,
   "metadata": {},
   "outputs": [
    {
     "data": {
      "image/png": "[encoded data removed]",
      "text/plain": [
       "<matplotlib.figure.Figure at 0x240ca961630>"
      ]
     },
     "metadata": {},
     "output_type": "display_data"
    }
   ],
   "source": [
    "plt.hist(setoca, alpha = 0.5)\n",
    "plt.hist(virginica, alpha = 0.5)\n",
    "plt.show()"
   ]
  },
  {
   "cell_type": "code",
   "execution_count": 19,
   "metadata": {},
   "outputs": [
    {
     "data": {
      "text/plain": [
       "Ttest_indResult(statistic=-15.251109693486121, pvalue=1.650429109036707e-27)"
      ]
     },
     "execution_count": 19,
     "metadata": {},
     "output_type": "execute_result"
    }
   ],
   "source": [
    "ttest_ind(setoca, virginica) # T test difference sagnificient"
   ]
  },
  {
   "cell_type": "code",
   "execution_count": 21,
   "metadata": {},
   "outputs": [
    {
     "data": {
      "text/plain": [
       "F_onewayResult(statistic=232.5963468827469, pvalue=1.6504291090365844e-27)"
      ]
     },
     "execution_count": 21,
     "metadata": {},
     "output_type": "execute_result"
    }
   ],
   "source": [
    "# analysing variation\n",
    "#category to length\n",
    "f_oneway(setoca, virginica)\n",
    "\n",
    "# very different, but very good grouped"
   ]
  },
  {
   "cell_type": "code",
   "execution_count": 23,
   "metadata": {},
   "outputs": [
    {
     "data": {
      "text/plain": [
       "<matplotlib.collections.PathCollection at 0x240cdf07518>"
      ]
     },
     "execution_count": 23,
     "metadata": {},
     "output_type": "execute_result"
    },
    {
     "data": {
      "image/png": "[encoded data removed]",
      "text/plain": [
       "<matplotlib.figure.Figure at 0x240cdfc7c50>"
      ]
     },
     "metadata": {},
     "output_type": "display_data"
    }
   ],
   "source": [
    "plt.scatter(iris_data.sepal_length, iris_data.sepal_width)"
   ]
  },
  {
   "cell_type": "code",
   "execution_count": 26,
   "metadata": {},
   "outputs": [
    {
     "name": "stdout",
     "output_type": "stream",
     "text": [
      "('Iris-setosa',     sepal_length  sepal_width  petal_length  petal_width        class\n",
      "0            4.9          3.0           1.4          0.2  Iris-setosa\n",
      "1            4.7          3.2           1.3          0.2  Iris-setosa\n",
      "2            4.6          3.1           1.5          0.2  Iris-setosa\n",
      "3            5.0          3.6           1.4          0.2  Iris-setosa\n",
      "4            5.4          3.9           1.7          0.4  Iris-setosa\n",
      "5            4.6          3.4           1.4          0.3  Iris-setosa\n",
      "6            5.0          3.4           1.5          0.2  Iris-setosa\n",
      "7            4.4          2.9           1.4          0.2  Iris-setosa\n",
      "8            4.9          3.1           1.5          0.1  Iris-setosa\n",
      "9            5.4          3.7           1.5          0.2  Iris-setosa\n",
      "10           4.8          3.4           1.6          0.2  Iris-setosa\n",
      "11           4.8          3.0           1.4          0.1  Iris-setosa\n",
      "12           4.3          3.0           1.1          0.1  Iris-setosa\n",
      "13           5.8          4.0           1.2          0.2  Iris-setosa\n",
      "14           5.7          4.4           1.5          0.4  Iris-setosa\n",
      "15           5.4          3.9           1.3          0.4  Iris-setosa\n",
      "16           5.1          3.5           1.4          0.3  Iris-setosa\n",
      "17           5.7          3.8           1.7          0.3  Iris-setosa\n",
      "18           5.1          3.8           1.5          0.3  Iris-setosa\n",
      "19           5.4          3.4           1.7          0.2  Iris-setosa\n",
      "20           5.1          3.7           1.5          0.4  Iris-setosa\n",
      "21           4.6          3.6           1.0          0.2  Iris-setosa\n",
      "22           5.1          3.3           1.7          0.5  Iris-setosa\n",
      "23           4.8          3.4           1.9          0.2  Iris-setosa\n",
      "24           5.0          3.0           1.6          0.2  Iris-setosa\n",
      "25           5.0          3.4           1.6          0.4  Iris-setosa\n",
      "26           5.2          3.5           1.5          0.2  Iris-setosa\n",
      "27           5.2          3.4           1.4          0.2  Iris-setosa\n",
      "28           4.7          3.2           1.6          0.2  Iris-setosa\n",
      "29           4.8          3.1           1.6          0.2  Iris-setosa\n",
      "30           5.4          3.4           1.5          0.4  Iris-setosa\n",
      "31           5.2          4.1           1.5          0.1  Iris-setosa\n",
      "32           5.5          4.2           1.4          0.2  Iris-setosa\n",
      "33           4.9          3.1           1.5          0.1  Iris-setosa\n",
      "34           5.0          3.2           1.2          0.2  Iris-setosa\n",
      "35           5.5          3.5           1.3          0.2  Iris-setosa\n",
      "36           4.9          3.1           1.5          0.1  Iris-setosa\n",
      "37           4.4          3.0           1.3          0.2  Iris-setosa\n",
      "38           5.1          3.4           1.5          0.2  Iris-setosa\n",
      "39           5.0          3.5           1.3          0.3  Iris-setosa\n",
      "40           4.5          2.3           1.3          0.3  Iris-setosa\n",
      "41           4.4          3.2           1.3          0.2  Iris-setosa\n",
      "42           5.0          3.5           1.6          0.6  Iris-setosa\n",
      "43           5.1          3.8           1.9          0.4  Iris-setosa\n",
      "44           4.8          3.0           1.4          0.3  Iris-setosa\n",
      "45           5.1          3.8           1.6          0.2  Iris-setosa\n",
      "46           4.6          3.2           1.4          0.2  Iris-setosa\n",
      "47           5.3          3.7           1.5          0.2  Iris-setosa\n",
      "48           5.0          3.3           1.4          0.2  Iris-setosa)\n",
      "('Iris-versicolor',     sepal_length  sepal_width  petal_length  petal_width            class\n",
      "49           7.0          3.2           4.7          1.4  Iris-versicolor\n",
      "50           6.4          3.2           4.5          1.5  Iris-versicolor\n",
      "51           6.9          3.1           4.9          1.5  Iris-versicolor\n",
      "52           5.5          2.3           4.0          1.3  Iris-versicolor\n",
      "53           6.5          2.8           4.6          1.5  Iris-versicolor\n",
      "54           5.7          2.8           4.5          1.3  Iris-versicolor\n",
      "55           6.3          3.3           4.7          1.6  Iris-versicolor\n",
      "56           4.9          2.4           3.3          1.0  Iris-versicolor\n",
      "57           6.6          2.9           4.6          1.3  Iris-versicolor\n",
      "58           5.2          2.7           3.9          1.4  Iris-versicolor\n",
      "59           5.0          2.0           3.5          1.0  Iris-versicolor\n",
      "60           5.9          3.0           4.2          1.5  Iris-versicolor\n",
      "61           6.0          2.2           4.0          1.0  Iris-versicolor\n",
      "62           6.1          2.9           4.7          1.4  Iris-versicolor\n",
      "63           5.6          2.9           3.6          1.3  Iris-versicolor\n",
      "64           6.7          3.1           4.4          1.4  Iris-versicolor\n",
      "65           5.6          3.0           4.5          1.5  Iris-versicolor\n",
      "66           5.8          2.7           4.1          1.0  Iris-versicolor\n",
      "67           6.2          2.2           4.5          1.5  Iris-versicolor\n",
      "68           5.6          2.5           3.9          1.1  Iris-versicolor\n",
      "69           5.9          3.2           4.8          1.8  Iris-versicolor\n",
      "70           6.1          2.8           4.0          1.3  Iris-versicolor\n",
      "71           6.3          2.5           4.9          1.5  Iris-versicolor\n",
      "72           6.1          2.8           4.7          1.2  Iris-versicolor\n",
      "73           6.4          2.9           4.3          1.3  Iris-versicolor\n",
      "74           6.6          3.0           4.4          1.4  Iris-versicolor\n",
      "75           6.8          2.8           4.8          1.4  Iris-versicolor\n",
      "76           6.7          3.0           5.0          1.7  Iris-versicolor\n",
      "77           6.0          2.9           4.5          1.5  Iris-versicolor\n",
      "78           5.7          2.6           3.5          1.0  Iris-versicolor\n",
      "79           5.5          2.4           3.8          1.1  Iris-versicolor\n",
      "80           5.5          2.4           3.7          1.0  Iris-versicolor\n",
      "81           5.8          2.7           3.9          1.2  Iris-versicolor\n",
      "82           6.0          2.7           5.1          1.6  Iris-versicolor\n",
      "83           5.4          3.0           4.5          1.5  Iris-versicolor\n",
      "84           6.0          3.4           4.5          1.6  Iris-versicolor\n",
      "85           6.7          3.1           4.7          1.5  Iris-versicolor\n",
      "86           6.3          2.3           4.4          1.3  Iris-versicolor\n",
      "87           5.6          3.0           4.1          1.3  Iris-versicolor\n",
      "88           5.5          2.5           4.0          1.3  Iris-versicolor\n",
      "89           5.5          2.6           4.4          1.2  Iris-versicolor\n",
      "90           6.1          3.0           4.6          1.4  Iris-versicolor\n",
      "91           5.8          2.6           4.0          1.2  Iris-versicolor\n",
      "92           5.0          2.3           3.3          1.0  Iris-versicolor\n",
      "93           5.6          2.7           4.2          1.3  Iris-versicolor\n",
      "94           5.7          3.0           4.2          1.2  Iris-versicolor\n",
      "95           5.7          2.9           4.2          1.3  Iris-versicolor\n",
      "96           6.2          2.9           4.3          1.3  Iris-versicolor\n",
      "97           5.1          2.5           3.0          1.1  Iris-versicolor\n",
      "98           5.7          2.8           4.1          1.3  Iris-versicolor)\n",
      "('Iris-virginica',      sepal_length  sepal_width  petal_length  petal_width           class\n",
      "99            6.3          3.3           6.0          2.5  Iris-virginica\n",
      "100           5.8          2.7           5.1          1.9  Iris-virginica\n",
      "101           7.1          3.0           5.9          2.1  Iris-virginica\n",
      "102           6.3          2.9           5.6          1.8  Iris-virginica\n",
      "103           6.5          3.0           5.8          2.2  Iris-virginica\n",
      "104           7.6          3.0           6.6          2.1  Iris-virginica\n",
      "105           4.9          2.5           4.5          1.7  Iris-virginica\n",
      "106           7.3          2.9           6.3          1.8  Iris-virginica\n",
      "107           6.7          2.5           5.8          1.8  Iris-virginica\n",
      "108           7.2          3.6           6.1          2.5  Iris-virginica\n",
      "109           6.5          3.2           5.1          2.0  Iris-virginica\n",
      "110           6.4          2.7           5.3          1.9  Iris-virginica\n",
      "111           6.8          3.0           5.5          2.1  Iris-virginica\n",
      "112           5.7          2.5           5.0          2.0  Iris-virginica\n",
      "113           5.8          2.8           5.1          2.4  Iris-virginica\n",
      "114           6.4          3.2           5.3          2.3  Iris-virginica\n",
      "115           6.5          3.0           5.5          1.8  Iris-virginica\n",
      "116           7.7          3.8           6.7          2.2  Iris-virginica\n",
      "117           7.7          2.6           6.9          2.3  Iris-virginica\n",
      "118           6.0          2.2           5.0          1.5  Iris-virginica\n",
      "119           6.9          3.2           5.7          2.3  Iris-virginica\n",
      "120           5.6          2.8           4.9          2.0  Iris-virginica\n",
      "121           7.7          2.8           6.7          2.0  Iris-virginica\n",
      "122           6.3          2.7           4.9          1.8  Iris-virginica\n",
      "123           6.7          3.3           5.7          2.1  Iris-virginica\n",
      "124           7.2          3.2           6.0          1.8  Iris-virginica\n",
      "125           6.2          2.8           4.8          1.8  Iris-virginica\n",
      "126           6.1          3.0           4.9          1.8  Iris-virginica\n",
      "127           6.4          2.8           5.6          2.1  Iris-virginica\n",
      "128           7.2          3.0           5.8          1.6  Iris-virginica\n",
      "129           7.4          2.8           6.1          1.9  Iris-virginica\n",
      "130           7.9          3.8           6.4          2.0  Iris-virginica\n",
      "131           6.4          2.8           5.6          2.2  Iris-virginica\n",
      "132           6.3          2.8           5.1          1.5  Iris-virginica\n",
      "133           6.1          2.6           5.6          1.4  Iris-virginica\n",
      "134           7.7          3.0           6.1          2.3  Iris-virginica\n",
      "135           6.3          3.4           5.6          2.4  Iris-virginica\n",
      "136           6.4          3.1           5.5          1.8  Iris-virginica\n",
      "137           6.0          3.0           4.8          1.8  Iris-virginica\n",
      "138           6.9          3.1           5.4          2.1  Iris-virginica\n",
      "139           6.7          3.1           5.6          2.4  Iris-virginica\n",
      "140           6.9          3.1           5.1          2.3  Iris-virginica\n",
      "141           5.8          2.7           5.1          1.9  Iris-virginica\n",
      "142           6.8          3.2           5.9          2.3  Iris-virginica\n",
      "143           6.7          3.3           5.7          2.5  Iris-virginica\n",
      "144           6.7          3.0           5.2          2.3  Iris-virginica\n",
      "145           6.3          2.5           5.0          1.9  Iris-virginica\n",
      "146           6.5          3.0           5.2          2.0  Iris-virginica\n",
      "147           6.2          3.4           5.4          2.3  Iris-virginica\n",
      "148           5.9          3.0           5.1          1.8  Iris-virginica)\n"
     ]
    }
   ],
   "source": [
    "for g in iris_data.groupby(\"class\"):\n",
    "    print(g)"
   ]
  },
  {
   "cell_type": "code",
   "execution_count": 30,
   "metadata": {},
   "outputs": [
    {
     "data": {
      "image/png": "[encoded data removed]",
      "text/plain": [
       "<matplotlib.figure.Figure at 0x240ce059e48>"
      ]
     },
     "metadata": {},
     "output_type": "display_data"
    }
   ],
   "source": [
    "for iris_class, data in iris_data.groupby(\"class\"):\n",
    "    plt.scatter(data.sepal_length, data.sepal_width, label = iris_class)\n",
    "    plt.legend()"
   ]
  },
  {
   "cell_type": "code",
   "execution_count": 33,
   "metadata": {},
   "outputs": [
    {
     "data": {
      "image/png": "[encoded data removed]",
      "text/plain": [
       "<matplotlib.figure.Figure at 0x240cde20be0>"
      ]
     },
     "metadata": {},
     "output_type": "display_data"
    }
   ],
   "source": [
    "for iris_class, data in iris_data.groupby(\"class\"):\n",
    "    plt.scatter(data.petal_length, data.petal_width, label = iris_class)\n",
    "    plt.legend()\n",
    "    plt.xlabel(\"Petal Length\")\n",
    "    plt.ylabel(\"Petal Width\")    "
   ]
  }
 ],
 "metadata": {
  "kernelspec": {
   "display_name": "Python 3",
   "language": "python",
   "name": "python3"
  },
  "language_info": {
   "codemirror_mode": {
    "name": "ipython",
    "version": 3
   },
   "file_extension": ".py",
   "mimetype": "text/x-python",
   "name": "python",
   "nbconvert_exporter": "python",
   "pygments_lexer": "ipython3",
   "version": "3.6.4"
  }
 },
 "nbformat": 4,
 "nbformat_minor": 2
}
